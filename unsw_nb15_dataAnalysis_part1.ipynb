{
 "cells": [
  {
   "cell_type": "markdown",
   "metadata": {
    "id": "udFOnLdkQQ7o"
   },
   "source": [
    "**Spark Data Analysis**"
   ]
  },
  {
   "cell_type": "markdown",
   "metadata": {
    "id": "rJxHHT_2xMuu"
   },
   "source": [
    "I. Data Procesing and Preparation"
   ]
  },
  {
   "cell_type": "code",
   "execution_count": 1,
   "metadata": {
    "colab": {
     "base_uri": "https://localhost:8080/"
    },
    "id": "AneXHnluaxIT",
    "outputId": "63f25756-fe97-4677-97ad-dbfe9b564fe5"
   },
   "outputs": [
    {
     "name": "stdout",
     "output_type": "stream",
     "text": [
      "Looking in indexes: https://pypi.org/simple, https://us-python.pkg.dev/colab-wheels/public/simple/\n",
      "Collecting pyspark\n",
      "  Downloading pyspark-3.3.1.tar.gz (281.4 MB)\n",
      "\u001b[K     |████████████████████████████████| 281.4 MB 45 kB/s \n",
      "\u001b[?25hCollecting py4j\n",
      "  Downloading py4j-0.10.9.7-py2.py3-none-any.whl (200 kB)\n",
      "\u001b[K     |████████████████████████████████| 200 kB 46.7 MB/s \n",
      "\u001b[?25h  Downloading py4j-0.10.9.5-py2.py3-none-any.whl (199 kB)\n",
      "\u001b[K     |████████████████████████████████| 199 kB 51.7 MB/s \n",
      "\u001b[?25hBuilding wheels for collected packages: pyspark\n",
      "  Building wheel for pyspark (setup.py) ... \u001b[?25l\u001b[?25hdone\n",
      "  Created wheel for pyspark: filename=pyspark-3.3.1-py2.py3-none-any.whl size=281845514 sha256=a92d41b011b13dfa218e42f1f36be62dd1a03672f6f12a017168fc43762b7f82\n",
      "  Stored in directory: /root/.cache/pip/wheels/42/59/f5/79a5bf931714dcd201b26025347785f087370a10a3329a899c\n",
      "Successfully built pyspark\n",
      "Installing collected packages: py4j, pyspark\n",
      "Successfully installed py4j-0.10.9.5 pyspark-3.3.1\n"
     ]
    }
   ],
   "source": [
    "!pip install pyspark py4j"
   ]
  },
  {
   "cell_type": "code",
   "execution_count": 2,
   "metadata": {
    "id": "1dKkxGWe1tUL"
   },
   "outputs": [],
   "source": [
    "from pyspark.sql import SparkSession\n",
    "from pyspark.sql.types import *"
   ]
  },
  {
   "cell_type": "code",
   "execution_count": 3,
   "metadata": {
    "id": "RAxMmUh3dNCk"
   },
   "outputs": [],
   "source": [
    "spark = SparkSession.builder.master(\"local[*]\").appName(\"UNSW_NB15_Analysis\").getOrCreate()"
   ]
  },
  {
   "cell_type": "code",
   "execution_count": 4,
   "metadata": {
    "id": "l67KjAqSuP6k"
   },
   "outputs": [],
   "source": [
    "# Creating the Schema based on the given csv file\n",
    "df_schema = StructType([\n",
    "      StructField(\"srcip\",StringType(),True),\n",
    "      StructField(\"sport\",IntegerType(),True),\n",
    "      StructField(\"dstip\",StringType(),True),\n",
    "      StructField(\"dsport\",IntegerType(),True),\n",
    "      StructField(\"proto\",StringType(),True),\n",
    "      StructField(\"State\",StringType(),True),\n",
    "      StructField(\"dur\",FloatType(),True),\n",
    "      StructField(\"sbytes\",IntegerType(),True),\n",
    "      StructField(\"dbytes\",IntegerType(),True),\n",
    "      StructField(\"sttl\",IntegerType(),True),\n",
    "      StructField(\"dttl\",IntegerType(),True),\n",
    "      StructField(\"sloss\",FloatType(),True),\n",
    "      StructField(\"dloss\",FloatType(),True),\n",
    "      StructField(\"service\",StringType(),True),\n",
    "      StructField(\"sload\",FloatType(),True),\n",
    "      StructField(\"dload\",FloatType(),True),\n",
    "      StructField(\"spkts\",IntegerType(),True),\n",
    "      StructField(\"dpkts\",IntegerType(),True),\n",
    "      StructField(\"swin\",IntegerType(),True),\n",
    "      StructField(\"dwin\",IntegerType(),True),\n",
    "      StructField(\"stcpb\",IntegerType(),True),\n",
    "      StructField(\"dtcpb\",IntegerType(),True),\n",
    "      StructField(\"smeansz\",IntegerType(),True),\n",
    "      StructField(\"dmeansz\",IntegerType(),True),\n",
    "      StructField(\"trans_depth\",IntegerType(),True),\n",
    "      StructField(\"res_bdy_len\",IntegerType(),True),\n",
    "      StructField(\"sjit\",FloatType(),True),\n",
    "      StructField(\"djit\",FloatType(),True),\n",
    "      StructField(\"stime\",StringType(),True),\n",
    "      StructField(\"ltime\",StringType(),True),\n",
    "      StructField(\"sintpkt\",FloatType(),True),\n",
    "      StructField(\"dintpkt\",FloatType(),True),\n",
    "      StructField(\"tcprtt\",FloatType(),True),\n",
    "      StructField(\"synack\",FloatType(),True),\n",
    "      StructField(\"ackdat\",FloatType(),True),\n",
    "      StructField(\"is_sm_ips_ports\",IntegerType(),True),\n",
    "      StructField(\"ct_state_ttl\",IntegerType(),True),\n",
    "      StructField(\"ct_flw_http_mthd\",IntegerType(),True),\n",
    "      StructField(\"is_ftp_login\",IntegerType(),True),\n",
    "      StructField(\"ct_ftp_cmd\",IntegerType(),True),\n",
    "      StructField(\"ct_srv_src\",IntegerType(),True),\n",
    "      StructField(\"ct_srv_dst\",IntegerType(),True),\n",
    "      StructField(\"ct_dst_ltm\",IntegerType(),True),\n",
    "      StructField(\"ct_src_ltm\",IntegerType(),True),\n",
    "      StructField(\"ct_src_dport_ltm\",IntegerType(),True),\n",
    "      StructField(\"ct_dst_sport_ltm\",IntegerType(),True),\n",
    "      StructField(\"ct_dst_src_ltm\",IntegerType(),True),\n",
    "      StructField(\"attack_cat\",StringType(),True),\n",
    "      StructField(\"label\",IntegerType(),True)])"
   ]
  },
  {
   "cell_type": "code",
   "execution_count": 5,
   "metadata": {
    "id": "5HwE3DXZzfi9"
   },
   "outputs": [],
   "source": [
    "# Reading data from storage providing the schema\n",
    "df = spark.read.format(\"csv\") \\\n",
    "      .option(\"header\", True) \\\n",
    "      .schema(df_schema) \\\n",
    "      .load(\"/content/drive/MyDrive/UNSW_NB15_datasets/UNSW-NB15.csv\")"
   ]
  },
  {
   "cell_type": "code",
   "execution_count": null,
   "metadata": {
    "colab": {
     "base_uri": "https://localhost:8080/"
    },
    "id": "m8ZASk9l0l9w",
    "outputId": "b117b72e-cd14-4d65-b6d6-5b0e913692af"
   },
   "outputs": [
    {
     "name": "stdout",
     "output_type": "stream",
     "text": [
      "root\n",
      " |-- srcip: string (nullable = true)\n",
      " |-- sport: integer (nullable = true)\n",
      " |-- dstip: string (nullable = true)\n",
      " |-- dsport: integer (nullable = true)\n",
      " |-- proto: string (nullable = true)\n",
      " |-- State: string (nullable = true)\n",
      " |-- dur: float (nullable = true)\n",
      " |-- sbytes: integer (nullable = true)\n",
      " |-- dbytes: integer (nullable = true)\n",
      " |-- sttl: integer (nullable = true)\n",
      " |-- dttl: integer (nullable = true)\n",
      " |-- sloss: float (nullable = true)\n",
      " |-- dloss: float (nullable = true)\n",
      " |-- service: string (nullable = true)\n",
      " |-- sload: float (nullable = true)\n",
      " |-- dload: float (nullable = true)\n",
      " |-- spkts: integer (nullable = true)\n",
      " |-- dpkts: integer (nullable = true)\n",
      " |-- swin: integer (nullable = true)\n",
      " |-- dwin: integer (nullable = true)\n",
      " |-- stcpb: integer (nullable = true)\n",
      " |-- dtcpb: integer (nullable = true)\n",
      " |-- smeansz: integer (nullable = true)\n",
      " |-- dmeansz: integer (nullable = true)\n",
      " |-- trans_depth: integer (nullable = true)\n",
      " |-- res_bdy_len: integer (nullable = true)\n",
      " |-- sjit: float (nullable = true)\n",
      " |-- djit: float (nullable = true)\n",
      " |-- stime: string (nullable = true)\n",
      " |-- ltime: string (nullable = true)\n",
      " |-- sintpkt: float (nullable = true)\n",
      " |-- dintpkt: float (nullable = true)\n",
      " |-- tcprtt: float (nullable = true)\n",
      " |-- synack: float (nullable = true)\n",
      " |-- ackdat: float (nullable = true)\n",
      " |-- is_sm_ips_ports: integer (nullable = true)\n",
      " |-- ct_state_ttl: integer (nullable = true)\n",
      " |-- ct_flw_http_mthd: integer (nullable = true)\n",
      " |-- is_ftp_login: integer (nullable = true)\n",
      " |-- ct_ftp_cmd: integer (nullable = true)\n",
      " |-- ct_srv_src: integer (nullable = true)\n",
      " |-- ct_srv_dst: integer (nullable = true)\n",
      " |-- ct_dst_ltm: integer (nullable = true)\n",
      " |-- ct_src_ltm: integer (nullable = true)\n",
      " |-- ct_src_dport_ltm: integer (nullable = true)\n",
      " |-- ct_dst_sport_ltm: integer (nullable = true)\n",
      " |-- ct_dst_src_ltm: integer (nullable = true)\n",
      " |-- attack_cat: string (nullable = true)\n",
      " |-- label: integer (nullable = true)\n",
      "\n"
     ]
    }
   ],
   "source": [
    "df.printSchema()"
   ]
  },
  {
   "cell_type": "code",
   "execution_count": null,
   "metadata": {
    "colab": {
     "base_uri": "https://localhost:8080/"
    },
    "id": "nZv_6BAf0lyS",
    "outputId": "5350542e-c52b-4cc2-df84-aa2719c44101"
   },
   "outputs": [
    {
     "name": "stdout",
     "output_type": "stream",
     "text": [
      "+----------+-----+-------------+------+-----+-----+--------+------+------+----+----+-----+-----+--------+---------+---------+-----+-----+----+----+---------+----------+-------+-------+-----------+-----------+---------+---------+----------+----------+---------+--------+-------+-------+-------+---------------+------------+----------------+------------+----------+----------+----------+----------+----------+----------------+----------------+--------------+----------+-----+\n",
      "|     srcip|sport|        dstip|dsport|proto|State|     dur|sbytes|dbytes|sttl|dttl|sloss|dloss| service|    sload|    dload|spkts|dpkts|swin|dwin|    stcpb|     dtcpb|smeansz|dmeansz|trans_depth|res_bdy_len|     sjit|     djit|     stime|     ltime|  sintpkt| dintpkt| tcprtt| synack| ackdat|is_sm_ips_ports|ct_state_ttl|ct_flw_http_mthd|is_ftp_login|ct_ftp_cmd|ct_srv_src|ct_srv_dst|ct_dst_ltm|ct_src_ltm|ct_src_dport_ltm|ct_dst_sport_ltm|ct_dst_src_ltm|attack_cat|label|\n",
      "+----------+-----+-------------+------+-----+-----+--------+------+------+----+----+-----+-----+--------+---------+---------+-----+-----+----+----+---------+----------+-------+-------+-----------+-----------+---------+---------+----------+----------+---------+--------+-------+-------+-------+---------------+------------+----------------+------------+----------+----------+----------+----------+----------+----------------+----------------+--------------+----------+-----+\n",
      "|59.166.0.0|43467|149.171.126.6| 49729|  tcp|  FIN|0.101815|  4238| 65628|  31|  29|  7.0| 30.0|       -|328438.84|5087030.5|   72|   74| 255| 255|961515433|      null|     59|    887|          0|          0|      0.0| 91.57957|1421970775|1421970775| 1.429493|1.387192| 6.8E-4|5.46E-4|1.34E-4|              0|           0|               0|           0|         0|         7|         4|         1|         6|               1|               1|             1|      null|    0|\n",
      "|59.166.0.5|41289|149.171.126.2|  9574|  tcp|  FIN|0.044003|  2750| 29104|  31|  29|  7.0| 17.0|       -|488693.97|5181101.5|   44|   48| 255| 255|     null|1191410228|     63|    606|          0|          0| 78.12697|62.206562|1421970775|1421970775| 1.014977| 0.92583|0.00125|4.85E-4|7.65E-4|              0|           0|               0|           0|         0|         3|         5|         3|         3|               1|               1|             1|      null|    0|\n",
      "|59.166.0.9|43785|149.171.126.0|  6881|  tcp|  FIN| 2.79083| 10476|395734|  31|  29| 16.0|143.0|       -|29863.518|1130840.8|  180|  320| 255| 255|     null|      null|     58|   1237|          0|          0|2707.4927| 2018.976|1421970772|1421970775|15.589459|8.747012|6.84E-4|5.32E-4|1.52E-4|              0|           0|               0|           0|         0|        11|         4|         3|         2|               1|               1|             1|      null|    0|\n",
      "|59.166.0.8|40691|149.171.126.9|  6881|  tcp|  FIN|  2.6335| 13350|548216|  31|  29| 21.0|197.0|       -| 40381.24|1661560.6|  232|  438| 255| 255|  1518931|  18267719|     58|   1252|          0|          0| 718.3368|500.57288|1421970773|1421970775|11.399026|6.025183|6.19E-4|4.89E-4| 1.3E-4|              0|           0|               0|           0|         0|        16|         7|         7|         1|               1|               1|             1|      null|    0|\n",
      "|59.166.0.3|20393|149.171.126.3|  5190|  tcp|  FIN|0.115048|  1958|  2308|  31|  29|  6.0|  6.0|       -|129963.15|153814.06|   22|   24| 255| 255|     null|      null|     89|     96|          0|          0|435.26627|417.08563|1421970775|1421970775| 5.460381|4.976913| 7.1E-4|5.73E-4|1.37E-4|              0|           0|               0|           0|         0|         2|         6|         1|         4|               1|               1|             1|      null|    0|\n",
      "|59.166.0.7|19792|149.171.126.0|    53|  udp|  CON|0.003362|   146|   178|  31|  29|  0.0|  0.0|     dns|173706.12| 211778.7|    2|    2|   0|   0|        0|         0|     73|     89|          0|          0|      0.0|      0.0|1421970775|1421970775|    0.011|   0.006|    0.0|    0.0|    0.0|              0|           0|               0|           0|         0|         3|         2|         3|         3|               3|               1|             1|      null|    0|\n",
      "|59.166.0.3|14382|149.171.126.9|  3354|  tcp|  FIN|0.453052|   424|  8824|  31|  29|  1.0|  4.0|ftp-data| 6551.124| 142835.7|    8|   12| 255| 255|     null|      null|     53|    735|          0|          0| 3906.795|3074.6694|1421970775|1421970775| 64.67129|  41.135| 6.8E-4|5.59E-4|1.21E-4|              0|           0|               0|           0|         0|         4|         6|         7|         4|               1|               1|             2|      null|    0|\n",
      "|59.166.0.9|37074|149.171.126.2|    53|  udp|  CON|0.001088|   146|   178|  31|  29|  0.0|  0.0|     dns| 536764.7|654411.75|    2|    2|   0|   0|        0|         0|     73|     89|          0|          0|      0.0|      0.0|1421970775|1421970775|    0.001|   0.009|    0.0|    0.0|    0.0|              0|           0|               0|           0|         0|         2|         5|         3|         2|               1|               1|             1|      null|    0|\n",
      "|59.166.0.7|12569|149.171.126.5|    53|  udp|  CON| 9.69E-4|   146|   178|  31|  29|  0.0|  0.0|     dns| 602683.2| 734778.1|    2|    2|   0|   0|        0|         0|     73|     89|          0|          0|      0.0|      0.0|1421970775|1421970775|     0.01|   0.003|    0.0|    0.0|    0.0|              0|           0|               0|           0|         0|         3|         1|         2|         3|               3|               1|             1|      null|    0|\n",
      "|59.166.0.1|12792|149.171.126.7|    53|  udp|  CON|0.001063|   146|   178|  31|  29|  0.0|  0.0|     dns|549388.56| 669802.5|    2|    2|   0|   0|        0|         0|     73|     89|          0|          0|      0.0|      0.0|1421970780|1421970780|    0.002|   0.003|    0.0|    0.0|    0.0|              0|           0|               0|           0|         0|         5|         3|         2|         4|               3|               1|             1|      null|    0|\n",
      "+----------+-----+-------------+------+-----+-----+--------+------+------+----+----+-----+-----+--------+---------+---------+-----+-----+----+----+---------+----------+-------+-------+-----------+-----------+---------+---------+----------+----------+---------+--------+-------+-------+-------+---------------+------------+----------------+------------+----------+----------+----------+----------+----------+----------------+----------------+--------------+----------+-----+\n",
      "only showing top 10 rows\n",
      "\n"
     ]
    }
   ],
   "source": [
    "df.show(10)"
   ]
  },
  {
   "cell_type": "code",
   "execution_count": null,
   "metadata": {
    "colab": {
     "base_uri": "https://localhost:8080/"
    },
    "id": "WC07ph3Q0lmE",
    "outputId": "3cb0280d-060f-4913-9dd8-0816404d767b"
   },
   "outputs": [
    {
     "data": {
      "text/plain": [
       "2539738"
      ]
     },
     "execution_count": 8,
     "metadata": {},
     "output_type": "execute_result"
    }
   ],
   "source": [
    "# To show how many rows exist\n",
    "df.count()"
   ]
  },
  {
   "cell_type": "markdown",
   "metadata": {
    "id": "qf1_dw-u9NXT"
   },
   "source": [
    "**II. Data Preprocessing / Cleaning**"
   ]
  },
  {
   "cell_type": "markdown",
   "metadata": {
    "id": "5ei6xo1Ey1ZT"
   },
   "source": [
    "**II.A** Deleting duplicates and filling missing rows "
   ]
  },
  {
   "cell_type": "code",
   "execution_count": 6,
   "metadata": {
    "id": "Hf9_QeOxSxi5"
   },
   "outputs": [],
   "source": [
    "import pyspark.sql.functions as fn"
   ]
  },
  {
   "cell_type": "code",
   "execution_count": null,
   "metadata": {
    "colab": {
     "base_uri": "https://localhost:8080/"
    },
    "id": "o6dbqqeo8_QD",
    "outputId": "72315ec1-9edc-4662-8b80-c1d8cc57e6ee"
   },
   "outputs": [
    {
     "name": "stdout",
     "output_type": "stream",
     "text": [
      "Count of rows: 2539738\n",
      "Count of distinct rows: 2059114\n"
     ]
    }
   ],
   "source": [
    "# Checking if there are duplicate rows.\n",
    "print('Count of rows: {}'.format(df.count()))\n",
    "print('Count of distinct rows: {}'.format(df.distinct().count()))"
   ]
  },
  {
   "cell_type": "code",
   "execution_count": 7,
   "metadata": {
    "id": "8oIELMWq90FG"
   },
   "outputs": [],
   "source": [
    "# Drop rows with duplicate\n",
    "df = df.dropDuplicates()"
   ]
  },
  {
   "cell_type": "code",
   "execution_count": null,
   "metadata": {
    "colab": {
     "base_uri": "https://localhost:8080/"
    },
    "id": "0cj0U-xx_qPi",
    "outputId": "e6d1a4fe-58c7-405a-8785-dc39d3df5495"
   },
   "outputs": [
    {
     "name": "stdout",
     "output_type": "stream",
     "text": [
      "Count of rows: 2059114\n",
      "Count of distinct rows: 2059114\n"
     ]
    }
   ],
   "source": [
    "print('Count of rows: {}'.format(df.count()))\n",
    "print('Count of distinct rows: {}'.format(df.distinct().count()))"
   ]
  },
  {
   "cell_type": "code",
   "execution_count": null,
   "metadata": {
    "colab": {
     "base_uri": "https://localhost:8080/"
    },
    "id": "WQF6CvHJH9q8",
    "outputId": "0b71c206-7960-4379-cb6f-270d55d8465c"
   },
   "outputs": [
    {
     "name": "stdout",
     "output_type": "stream",
     "text": [
      "+-------------+-------------+-------------+--------------+-------------+-------------+-----------+--------------+--------------+------------+------------+-------------+-------------+---------------+-------------+-------------+-------------+-------------+------------+------------+-------------------+------------------+---------------+---------------+-------------------+-------------------+------------+------------+-------------+-------------+---------------+---------------+--------------+--------------+--------------+-----------------------+--------------------+------------------------+--------------------+------------------+------------------+------------------+------------------+------------------+------------------------+------------------------+----------------------+------------------+-------------+\n",
      "|srcip_missing|sport_missing|dstip_missing|dsport_missing|proto_missing|State_missing|dur_missing|sbytes_missing|dbytes_missing|sttl_missing|dttl_missing|sloss_missing|dloss_missing|service_missing|Sload_missing|Dload_missing|Spkts_missing|Dpkts_missing|swin_missing|dwin_missing|      stcpb_missing|     dtcpb_missing|smeansz_missing|dmeansz_missing|trans_depth_missing|res_bdy_len_missing|Sjit_missing|Djit_missing|Stime_missing|Ltime_missing|Sintpkt_missing|Dintpkt_missing|tcprtt_missing|synack_missing|ackdat_missing|is_sm_ips_ports_missing|ct_state_ttl_missing|ct_flw_http_mthd_missing|is_ftp_login_missing|ct_ftp_cmd_missing|ct_srv_src_missing|ct_srv_dst_missing|ct_dst_ltm_missing|ct_src_ltm_missing|ct_src_dport_ltm_missing|ct_dst_sport_ltm_missing|ct_dst_src_ltm_missing|attack_cat_missing|Label_missing|\n",
      "+-------------+-------------+-------------+--------------+-------------+-------------+-----------+--------------+--------------+------------+------------+-------------+-------------+---------------+-------------+-------------+-------------+-------------+------------+------------+-------------------+------------------+---------------+---------------+-------------------+-------------------+------------+------------+-------------+-------------+---------------+---------------+--------------+--------------+--------------+-----------------------+--------------------+------------------------+--------------------+------------------+------------------+------------------+------------------+------------------+------------------------+------------------------+----------------------+------------------+-------------+\n",
      "|          0.0|          0.0|          0.0|           0.0|          0.0|          0.0|        0.0|           0.0|           0.0|         0.0|         0.0|          0.0|          0.0|            0.0|          0.0|          0.0|          0.0|          0.0|         0.0|         0.0|0.35120202184046145|0.3513025505144446|            0.0|            0.0|                0.0|                0.0|         0.0|         0.0|          0.0|          0.0|            0.0|            0.0|           0.0|           0.0|           0.0|                    0.0|                 0.0|                     0.0|                 0.0|               0.0|               0.0|               0.0|               0.0|               0.0|                     0.0|                     0.0|                   0.0| 0.951608798735767|          0.0|\n",
      "+-------------+-------------+-------------+--------------+-------------+-------------+-----------+--------------+--------------+------------+------------+-------------+-------------+---------------+-------------+-------------+-------------+-------------+------------+------------+-------------------+------------------+---------------+---------------+-------------------+-------------------+------------+------------+-------------+-------------+---------------+---------------+--------------+--------------+--------------+-----------------------+--------------------+------------------------+--------------------+------------------+------------------+------------------+------------------+------------------+------------------------+------------------------+----------------------+------------------+-------------+\n",
      "\n"
     ]
    }
   ],
   "source": [
    "# Count if there are missing value\n",
    "df.agg(*[(1 - (fn.count(c) / fn.count('*'))).alias(c + '_missing') for c in df.columns]).show()"
   ]
  },
  {
   "cell_type": "markdown",
   "metadata": {
    "id": "uc2E9-ShiOCf"
   },
   "source": [
    "As a result there is missing values on stcpb, dtcpb, and attack_cat columns. I first resolve the NA column in attack_cat by filling those missing value as a Normal category."
   ]
  },
  {
   "cell_type": "code",
   "execution_count": 8,
   "metadata": {
    "id": "2wLvAkCmLFUa"
   },
   "outputs": [],
   "source": [
    "# fill null attack cat\n",
    "df = df.na.fill(\"Normal\",\"attack_cat\")"
   ]
  },
  {
   "cell_type": "code",
   "execution_count": null,
   "metadata": {
    "colab": {
     "base_uri": "https://localhost:8080/"
    },
    "id": "fwgdui8YQw-J",
    "outputId": "6328fe9e-ecc3-40a2-f818-2e68030e566b"
   },
   "outputs": [
    {
     "name": "stdout",
     "output_type": "stream",
     "text": [
      "+---------------+-------+\n",
      "|     attack_cat|  count|\n",
      "+---------------+-------+\n",
      "|          Worms|    171|\n",
      "|      Shellcode|    223|\n",
      "|      Backdoors|    299|\n",
      "|        Fuzzers|   3991|\n",
      "|       Analysis|   2184|\n",
      "|     Shellcode |   1288|\n",
      "|            DoS|   5665|\n",
      "|Reconnaissance |  11617|\n",
      "| Reconnaissance|   1740|\n",
      "|       Backdoor|   1684|\n",
      "|       Fuzzers |  17804|\n",
      "|       Exploits|  27599|\n",
      "|         Normal|1959471|\n",
      "|        Generic|  25378|\n",
      "+---------------+-------+\n",
      "\n"
     ]
    }
   ],
   "source": [
    "# Checking distinct categories and their value\n",
    "df.groupby(\"attack_cat\").count().show()"
   ]
  },
  {
   "cell_type": "markdown",
   "metadata": {
    "id": "44ZH0EMZi9X_"
   },
   "source": [
    "There seem to have a discrepancy in the data that some categories appear twice. I subjected this discrepancy to Multi-class classification."
   ]
  },
  {
   "cell_type": "code",
   "execution_count": 9,
   "metadata": {
    "id": "ZoNvqQSDYcaw"
   },
   "outputs": [],
   "source": [
    "from pyspark.ml.feature import Imputer"
   ]
  },
  {
   "cell_type": "code",
   "execution_count": 10,
   "metadata": {
    "id": "qjo9X1baJeJh"
   },
   "outputs": [],
   "source": [
    "# Imputing null value in stcpb and dctpb with mean\n",
    "imputer = Imputer(\n",
    "    inputCols=[\"stcpb\",\"dtcpb\"],\n",
    "    outputCols=[c for c in [\"stcpb\",\"dtcpb\"]]\n",
    ").setStrategy(\"mean\")"
   ]
  },
  {
   "cell_type": "code",
   "execution_count": 11,
   "metadata": {
    "id": "1Ej7urBTL5N4"
   },
   "outputs": [],
   "source": [
    "imputed_df = imputer.fit(df).transform(df)"
   ]
  },
  {
   "cell_type": "code",
   "execution_count": null,
   "metadata": {
    "colab": {
     "base_uri": "https://localhost:8080/"
    },
    "id": "aa6eDrstVa2l",
    "outputId": "bba770be-cb6d-4ba8-bb38-1271d7b3aa5a"
   },
   "outputs": [
    {
     "name": "stdout",
     "output_type": "stream",
     "text": [
      "+-------------+-----+-------------+------+-----+-----+---------+------+------+----+----+-----+-----+-------+------------+-----------+-----+-----+----+----+----------+----------+-------+-------+-----------+-----------+---------+---------+----------+----------+---------+---------+--------+--------+-------+---------------+------------+----------------+------------+----------+----------+----------+----------+----------+----------------+----------------+--------------+----------+-----+\n",
      "|        srcip|sport|        dstip|dsport|proto|State|      dur|sbytes|dbytes|sttl|dttl|sloss|dloss|service|       sload|      dload|spkts|dpkts|swin|dwin|     stcpb|     dtcpb|smeansz|dmeansz|trans_depth|res_bdy_len|     sjit|     djit|     stime|     ltime|  sintpkt|  dintpkt|  tcprtt|  synack| ackdat|is_sm_ips_ports|ct_state_ttl|ct_flw_http_mthd|is_ftp_login|ct_ftp_cmd|ct_srv_src|ct_srv_dst|ct_dst_ltm|ct_src_ltm|ct_src_dport_ltm|ct_dst_sport_ltm|ct_dst_src_ltm|attack_cat|label|\n",
      "+-------------+-----+-------------+------+-----+-----+---------+------+------+----+----+-----+-----+-------+------------+-----------+-----+-----+----+----+----------+----------+-------+-------+-----------+-----------+---------+---------+----------+----------+---------+---------+--------+--------+-------+---------------+------------+----------------+------------+----------+----------+----------+----------+----------+----------------+----------------+--------------+----------+-----+\n",
      "|  10.40.85.30|    0|   10.40.85.1|     0|  arp|  CON|30.983423|   184|   112|   0|   0|  0.0|  0.0|      -|   35.631958|  21.689016|    4|    4|   0|   0|         0|         0|     46|     28|          0|          0|15491.214|15491.223|1424220107|1424220138|15491.229|15491.228|     0.0|     0.0|    0.0|              0|           0|               0|           0|         0|         1|         1|         1|         1|               1|               1|             1|    Normal|    0|\n",
      "|  10.40.170.2|    0|  10.40.170.2|     0|  arp|  INT|      0.0|    46|     0|   0|   0|  0.0|  0.0|      -|         0.0|        0.0|    1|    0|   0|   0|         0|         0|     46|      0|          0|          0|      0.0|      0.0|1424232371|1424232371| 60000.72|      0.0|     0.0|     0.0|    0.0|              1|           2|               0|           0|         0|         1|         1|         1|         1|               1|               1|             1|    Normal|    0|\n",
      "|  10.40.182.1|    0|  10.40.182.3|     0|  arp|  CON| 36.13356|    56|    92|   0|   0|  0.0|  0.0|      -|    6.199223|  10.184438|    2|    2|   0|   0|         0|         0|     28|     46|          0|          0| 12.02207|      0.0|1424234476|1424234512|36132.543|36132.535|     0.0|     0.0|    0.0|              0|           0|               0|           0|         0|         1|         1|         1|         1|               1|               1|             1|    Normal|    0|\n",
      "|  10.40.170.2|    0|  10.40.170.2|     0|  arp|  INT|      0.0|    46|     0|   0|   0|  0.0|  0.0|      -|         0.0|        0.0|    1|    0|   0|   0|         0|         0|     46|      0|          0|          0|10.954516|      0.0|1424238731|1424238731|60000.707|      0.0|     0.0|     0.0|    0.0|              1|           2|               0|           0|         0|         1|         1|         1|         1|               1|               1|             1|    Normal|    0|\n",
      "|  10.40.170.2|    0|  10.40.170.2|     0|  arp|  INT|      0.0|    46|     0|   0|   0|  0.0|  0.0|      -|         0.0|        0.0|    1|    0|   0|   0|         0|         0|     46|      0|          0|          0|      0.0|      0.0|1424244011|1424244011|60000.695|      0.0|     0.0|     0.0|    0.0|              1|           2|               0|           0|         0|         1|         1|         1|         1|               1|               1|             1|    Normal|    0|\n",
      "|  10.40.182.1|    0|    224.0.0.5|     0| ospf|  REQ|50.004368|   384|     0|   1|   0|  0.0|  0.0|      -|   51.195526|        0.0|    6|    0|   0|   0|         0|         0|     64|      0|          0|          0|      0.0|      0.0|1424222072|1424222122|10000.856|      0.0|     0.0|     0.0|    0.0|              0|           0|               0|           0|         0|         1|         2|         2|         1|               1|               2|             1|    Normal|    0|\n",
      "|   10.40.85.1|    0|    224.0.0.5|     0| ospf|  REQ|50.004387|   384|     0|   1|   0|  0.0|  0.0|      -|   51.195507|        0.0|    6|    0|   0|   0|         0|         0|     64|      0|          0|          0| 4.084081|      0.0|1424226402|1424226452|10000.879|      0.0|     0.0|     0.0|    0.0|              0|           0|               0|           0|         0|         1|         2|         2|         1|               1|               2|             1|    Normal|    0|\n",
      "|149.171.126.9|   53|   59.166.0.9| 44578|  udp|  INT|   3.0E-6|   178|     0|  29|   0|  0.0|  0.0|      -|2.37333328E8|        0.0|    2|    0|   0|   0|         0|         0|     89|      0|          0|          0|      0.0|      0.0|1421971989|1421971989|    0.003|      0.0|     0.0|     0.0|    0.0|              0|           0|               0|           0|         0|         1|         1|         1|         1|               1|               1|             1|    Normal|    0|\n",
      "|   59.166.0.9|36370|149.171.126.1| 17155|  tcp|  FIN| 0.012851|  2646| 24666|  31|  29|  7.0| 15.0|      -|   1607968.2|1.5006459E7|   42|   44| 255| 255| 446772879| 580675543|     63|    561|          0|          0|17.682407|16.971146|1421970283|1421970283| 0.305707| 0.284674| 7.38E-4| 5.99E-4|1.39E-4|              0|           0|               0|           0|         0|         8|        14|         3|         4|               1|               1|             1|    Normal|    0|\n",
      "|   59.166.0.3| 3451|149.171.126.8| 47468|  tcp|  FIN| 0.012927|  2646| 24666|  31|  29|  7.0| 15.0|      -|   1598514.6|1.4918233E7|   42|   44| 255| 255|1119289550| 580675543|     63|    561|          0|          0| 17.42088|17.052643|1421970288|1421970288|  0.30761| 0.286721| 7.27E-4| 5.87E-4| 1.4E-4|              0|           0|               0|           0|         0|         4|         5|         3|         2|               1|               1|             1|    Normal|    0|\n",
      "|   59.166.0.0| 7661|149.171.126.7| 43250|  udp|  CON| 0.001768|   520|   304|  31|  29|  0.0|  0.0|      -|   1764705.9|  1031674.3|    4|    4|   0|   0|         0|         0|    130|     76|          0|          0| 0.650774| 0.303594|1421970301|1421970301| 0.464667| 0.220667|     0.0|     0.0|    0.0|              0|           0|               0|           0|         0|        15|         8|         3|         6|               1|               1|             3|    Normal|    0|\n",
      "|   59.166.0.1|18192|149.171.126.8| 37584|  tcp|  FIN| 0.015878|  2974| 30514|  31|  29|  7.0| 18.0|      -|   1467691.2|1.5066886E7|   48|   50| 255| 255| 581047475| 642237770|     62|    610|          0|          0|      0.0|  18.4104|1421970301|1421970301| 0.330617| 0.313245| 6.79E-4| 5.25E-4|1.54E-4|              0|           0|               0|           0|         0|         2|         5|         2|         2|               1|               1|             1|    Normal|    0|\n",
      "|   59.166.0.1|36729|149.171.126.9|   111|  udp|  CON| 0.004736|   568|   320|  31|  29|  0.0|  0.0|      -|   719594.56|  405405.38|    4|    4|   0|   0|         0|         0|    142|     80|          0|          0| 1.731235| 1.508966|1421970305|1421970305| 1.230667|    1.075|     0.0|     0.0|    0.0|              0|           0|               0|           0|         0|        11|         8|         7|         3|               1|               1|             3|    Normal|    0|\n",
      "|   59.166.0.3|35611|149.171.126.7|    80|  tcp|  FIN| 1.004871|  1580| 10168|  31|  29|  3.0|  5.0|   http|   11535.809|   76459.56|   12|   18| 255| 255| 581047475|1905454628|    132|    565|          1|       3924| 9529.008|7676.1543|1421970325|1421970326| 91.32101|59.079765| 6.52E-4| 5.11E-4|1.41E-4|              0|           0|               1|           0|         0|         1|         2|         2|         1|               1|               1|             1|    Normal|    0|\n",
      "|   59.166.0.2|52535|149.171.126.9|  6881|  tcp|  FIN|  0.43832| 12934|548216|  31|  29| 21.0|197.0|      -|   235024.64|  9982935.0|  224|  438| 255| 255| 581047475| 580675543|     58|   1252|          0|          0|125.23885| 67.64823|1421970326|1421970326|  1.96409| 1.001874| 6.52E-4| 4.97E-4|1.55E-4|              0|           0|               0|           0|         0|        10|         7|         1|         3|               1|               1|             1|    Normal|    0|\n",
      "|   59.166.0.8| 4319|149.171.126.0| 22342|  udp|  CON| 0.001869|   512|   304|  31|  29|  0.0|  0.0|      -|   1643659.6|  975922.94|    4|    4|   0|   0|         0|         0|    128|     76|          0|          0| 0.592623| 0.383487|1421970330|1421970330|    0.434| 0.277667|     0.0|     0.0|    0.0|              0|           0|               0|           0|         0|        12|        15|         3|         6|               1|               1|             2|    Normal|    0|\n",
      "|   59.166.0.2| 2300|149.171.126.3|    22|  tcp|  FIN| 0.395805|  3728|  5474|  31|  29|  7.0|  7.0|    ssh|    73005.65|  106032.01|   32|   24| 255| 255| 647035785| 647381174|    117|    228|          0|          0|  792.972|23.497915|1421970341|1421970341|12.767903|17.173435| 8.25E-4| 6.75E-4| 1.5E-4|              0|           0|               0|           0|         0|         1|         2|         2|         6|               1|               1|             1|    Normal|    0|\n",
      "|   59.166.0.9|57403|149.171.126.5| 24413|  tcp|  FIN| 0.049835|  2974| 30514|  31|  29|  7.0| 18.0|      -|   467623.16|  4800481.5|   48|   50| 255| 255| 581047475|1409332737|     62|    610|          0|          0| 79.67389| 81.05546|1421970346|1421970346| 1.076522| 0.997959|0.001086| 9.32E-4|1.54E-4|              0|           0|               0|           0|         0|         3|         3|         1|         2|               1|               1|             1|    Normal|    0|\n",
      "|   59.166.0.1|23724|149.171.126.8| 59522|  tcp|  FIN| 0.015914|  2750| 28086|  31|  29|  7.0| 16.0|      -|   1351263.0| 1.381224E7|   44|   46| 255| 255| 312071804| 580675543|     63|    611|          0|          0|21.231663|19.559164|1421970347|1421970347| 0.362651| 0.327778|0.001285|0.001162|1.23E-4|              0|           0|               0|           0|         0|        17|        14|         8|         8|               1|               1|             1|    Normal|    0|\n",
      "|   59.166.0.5|19899|149.171.126.1|    25|  tcp|  FIN| 0.021131| 37136|  3276|  31|  29| 18.0|  8.0|   smtp| 1.3789031E7|  1209597.2|   52|   40| 255| 255| 581047475|1333105804|    714|     82|          0|          0|22.718483| 1.030547|1421970349|1421970349| 0.407549| 0.528077| 6.65E-4| 5.32E-4|1.33E-4|              0|           0|               0|           0|         0|         1|         1|         3|         2|               1|               1|             1|    Normal|    0|\n",
      "+-------------+-----+-------------+------+-----+-----+---------+------+------+----+----+-----+-----+-------+------------+-----------+-----+-----+----+----+----------+----------+-------+-------+-----------+-----------+---------+---------+----------+----------+---------+---------+--------+--------+-------+---------------+------------+----------------+------------+----------+----------+----------+----------+----------+----------------+----------------+--------------+----------+-----+\n",
      "only showing top 20 rows\n",
      "\n"
     ]
    }
   ],
   "source": [
    "imputed_df.show()"
   ]
  },
  {
   "cell_type": "markdown",
   "metadata": {
    "id": "kqaT-gNMzRxX"
   },
   "source": [
    "**II.B** Selecting necessary columns to avoid data inconsistency.\n",
    "\n",
    "Some columns that is related to the hardware specification and date are being removed, as well as the additional generated features."
   ]
  },
  {
   "cell_type": "code",
   "execution_count": 12,
   "metadata": {
    "id": "KV-uq-0Q8uT0"
   },
   "outputs": [],
   "source": [
    "# Selecting column name that will use for statistic analysis\n",
    "prepro_cols = [\"dur\", \"proto\", \"service\", \"state\", \"spkts\", \"dpkts\", \"sbytes\", \"dbytes\", \"sttl\", \"dttl\", \"sload\", \"dload\", \"sloss\", \"dloss\", \"sintpkt\", \"dintpkt\", \"sjit\", \"djit\", \"swin\", \"stcpb\", \"dtcpb\", \"dwin\", \"tcprtt\", \"attack_cat\", \"label\"]"
   ]
  },
  {
   "cell_type": "markdown",
   "metadata": {
    "id": "_sFWOGbKYJuR"
   },
   "source": [
    "**III. Data preparation for ML training**\n"
   ]
  },
  {
   "cell_type": "markdown",
   "metadata": {
    "id": "5_tJ0RcLzs5K"
   },
   "source": [
    "**III.A** \n",
    "Features String Indexing and OneHotEncoder"
   ]
  },
  {
   "cell_type": "code",
   "execution_count": 13,
   "metadata": {
    "id": "rqONwXLZrdIW"
   },
   "outputs": [],
   "source": [
    "import pyspark.ml.feature as ft\n",
    "from pyspark.ml import Pipeline"
   ]
  },
  {
   "cell_type": "code",
   "execution_count": 14,
   "metadata": {
    "id": "yLSBIS-Q64C1"
   },
   "outputs": [],
   "source": [
    "# Method for string indexer and OneHotEncoding\n",
    "def features_encoding(string_columns,int_columns, df):\n",
    "  # for str type\n",
    "  indexers = [ft.StringIndexer(inputCol=c, outputCol=\"{0}_indexed\".format(c)) for c in string_columns]\n",
    "\n",
    "  encoders = [ft.StringIndexer(inputCol = indexer.getOutputCol(), outputCol = \"{0}_encoded\".format(indexer.getOutputCol()))\n",
    "  for indexer in indexers]\n",
    "\n",
    "  assemblerStr = ft.VectorAssembler(inputCols = [encoder.getOutputCol() for encoder in encoders], outputCol = \"str\")\n",
    "\n",
    "  pipelineStr = Pipeline(stages = indexers + encoders + [assemblerStr])\n",
    "  df = pipelineStr.fit(df).transform(df)\n",
    "\n",
    "  # For int type\n",
    "  assemblerInt = ft.VectorAssembler(inputCols = int_columns, outputCol = \"int\")\n",
    "\n",
    "  pipelineInt = Pipeline(stages = [assemblerInt])\n",
    "  df = pipelineInt.fit(df).transform(df)\n",
    "\n",
    "  assembler = ft.VectorAssembler(inputCols = [\"str\", \"int\"], outputCol = \"features\")\n",
    "\n",
    "  pipeline = Pipeline(stages = [assembler])\n",
    "  encoded_df = pipeline.fit(df).transform(df)\n",
    "  return encoded_df"
   ]
  },
  {
   "cell_type": "code",
   "execution_count": 15,
   "metadata": {
    "colab": {
     "base_uri": "https://localhost:8080/"
    },
    "id": "kas4Qr5Z_Swd",
    "outputId": "7f099d7a-6341-4226-f3aa-c77bbab00d5f"
   },
   "outputs": [
    {
     "name": "stdout",
     "output_type": "stream",
     "text": [
      "+--------+-------+\n",
      "| service|  count|\n",
      "+--------+-------+\n",
      "|     ftp|  45074|\n",
      "|ftp-data| 124849|\n",
      "|     dns| 386755|\n",
      "|    smtp|  81132|\n",
      "|    http| 203531|\n",
      "|  radius|     37|\n",
      "|     ssl|    142|\n",
      "|       -|1168877|\n",
      "|     irc|     31|\n",
      "|    dhcp|    102|\n",
      "|    snmp|    113|\n",
      "|    pop3|   1490|\n",
      "|     ssh|  46981|\n",
      "+--------+-------+\n",
      "\n"
     ]
    }
   ],
   "source": [
    "# Extract string and int for indexing and encoding preparation except for service\n",
    "def split_str_int(df):\n",
    "  string_columns = [c[0] for c in df.dtypes if 'string' in c and c in prepro_cols]\n",
    "  int_columns = [c[0] for c in df.dtypes if 'int' in c or 'float' in c and  c in prepro_cols]\n",
    "  return [string_columns, int_columns]\n",
    "\n",
    "# execute split function to extract type of columns\n",
    "str_col, int_col = split_str_int(imputed_df)\n",
    "\n",
    "# Extract features column name\n",
    "all_features_name = str_col + int_col\n",
    "\n",
    "# For labeled service\n",
    "encoded_df = features_encoding(str_col, int_col, imputed_df)\n",
    "encoded_df.groupby('service').count().show()"
   ]
  },
  {
   "cell_type": "code",
   "execution_count": null,
   "metadata": {
    "colab": {
     "base_uri": "https://localhost:8080/"
    },
    "id": "XlNGAqhJXGmt",
    "outputId": "309753dd-f0ca-4ebe-910b-bdde5f9396d8"
   },
   "outputs": [
    {
     "name": "stdout",
     "output_type": "stream",
     "text": [
      "+-------------+-----+-------------+------+-----+-----+---------+------+------+----+----+-----+-----+-------+------------+-----------+-----+-----+----+----+----------+---------+-------+-------+-----------+-----------+---------+---------+----------+----------+---------+---------+-------+-------+-------+---------------+------------+----------------+------------+----------+----------+----------+----------+----------+----------------+----------------+--------------+----------+-----+---+--------------------+--------------------+\n",
      "|        srcip|sport|        dstip|dsport|proto|State|      dur|sbytes|dbytes|sttl|dttl|sloss|dloss|service|       sload|      dload|spkts|dpkts|swin|dwin|     stcpb|    dtcpb|smeansz|dmeansz|trans_depth|res_bdy_len|     sjit|     djit|     stime|     ltime|  sintpkt|  dintpkt| tcprtt| synack| ackdat|is_sm_ips_ports|ct_state_ttl|ct_flw_http_mthd|is_ftp_login|ct_ftp_cmd|ct_srv_src|ct_srv_dst|ct_dst_ltm|ct_src_ltm|ct_src_dport_ltm|ct_dst_sport_ltm|ct_dst_src_ltm|attack_cat|label|str|                 int|            features|\n",
      "+-------------+-----+-------------+------+-----+-----+---------+------+------+----+----+-----+-----+-------+------------+-----------+-----+-----+----+----+----------+---------+-------+-------+-----------+-----------+---------+---------+----------+----------+---------+---------+-------+-------+-------+---------------+------------+----------------+------------+----------+----------+----------+----------+----------+----------------+----------------+--------------+----------+-----+---+--------------------+--------------------+\n",
      "|  10.40.85.30|    0|   10.40.85.1|     0|  arp|  CON|30.983423|   184|   112|   0|   0|  0.0|  0.0|      -|   35.631958|  21.689016|    4|    4|   0|   0|         0|        0|     46|     28|          0|          0|15491.214|15491.223|1424220107|1424220138|15491.229|15491.228|    0.0|    0.0|    0.0|              0|           0|               0|           0|         0|         1|         1|         1|         1|               1|               1|             1|    Normal|    0| []|(29,[2,3,6,7,12,1...|(29,[2,3,6,7,12,1...|\n",
      "|  10.40.170.2|    0|  10.40.170.2|     0|  arp|  INT|      0.0|    46|     0|   0|   0|  0.0|  0.0|      -|         0.0|        0.0|    1|    0|   0|   0|         0|        0|     46|      0|          0|          0|      0.0|      0.0|1424232371|1424232371| 60000.72|      0.0|    0.0|    0.0|    0.0|              1|           2|               0|           0|         0|         1|         1|         1|         1|               1|               1|             1|    Normal|    0| []|(29,[2,6,12,16,17...|(29,[2,6,12,16,17...|\n",
      "|  10.40.182.1|    0|  10.40.182.3|     0|  arp|  CON| 36.13356|    56|    92|   0|   0|  0.0|  0.0|      -|    6.199223|  10.184438|    2|    2|   0|   0|         0|        0|     28|     46|          0|          0| 12.02207|      0.0|1424234476|1424234512|36132.543|36132.535|    0.0|    0.0|    0.0|              0|           0|               0|           0|         0|         1|         1|         1|         1|               1|               1|             1|    Normal|    0| []|(29,[2,3,6,7,12,1...|(29,[2,3,6,7,12,1...|\n",
      "|  10.40.170.2|    0|  10.40.170.2|     0|  arp|  INT|      0.0|    46|     0|   0|   0|  0.0|  0.0|      -|         0.0|        0.0|    1|    0|   0|   0|         0|        0|     46|      0|          0|          0|10.954516|      0.0|1424238731|1424238731|60000.707|      0.0|    0.0|    0.0|    0.0|              1|           2|               0|           0|         0|         1|         1|         1|         1|               1|               1|             1|    Normal|    0| []|(29,[2,6,12,16,17...|(29,[2,6,12,16,17...|\n",
      "|  10.40.170.2|    0|  10.40.170.2|     0|  arp|  INT|      0.0|    46|     0|   0|   0|  0.0|  0.0|      -|         0.0|        0.0|    1|    0|   0|   0|         0|        0|     46|      0|          0|          0|      0.0|      0.0|1424244011|1424244011|60000.695|      0.0|    0.0|    0.0|    0.0|              1|           2|               0|           0|         0|         1|         1|         1|         1|               1|               1|             1|    Normal|    0| []|(29,[2,6,12,16,17...|(29,[2,6,12,16,17...|\n",
      "|  10.40.182.1|    0|    224.0.0.5|     0| ospf|  REQ|50.004368|   384|     0|   1|   0|  0.0|  0.0|      -|   51.195526|        0.0|    6|    0|   0|   0|         0|        0|     64|      0|          0|          0|      0.0|      0.0|1424222072|1424222122|10000.856|      0.0|    0.0|    0.0|    0.0|              0|           0|               0|           0|         0|         1|         2|         2|         1|               1|               2|             1|    Normal|    0| []|(29,[2,4,6,12,21,...|(29,[2,4,6,12,21,...|\n",
      "|   10.40.85.1|    0|    224.0.0.5|     0| ospf|  REQ|50.004387|   384|     0|   1|   0|  0.0|  0.0|      -|   51.195507|        0.0|    6|    0|   0|   0|         0|        0|     64|      0|          0|          0| 4.084081|      0.0|1424226402|1424226452|10000.879|      0.0|    0.0|    0.0|    0.0|              0|           0|               0|           0|         0|         1|         2|         2|         1|               1|               2|             1|    Normal|    0| []|(29,[2,4,6,12,21,...|(29,[2,4,6,12,21,...|\n",
      "|149.171.126.9|   53|   59.166.0.9| 44578|  udp|  INT|   3.0E-6|   178|     0|  29|   0|  0.0|  0.0|      -|2.37333328E8|        0.0|    2|    0|   0|   0|         0|        0|     89|      0|          0|          0|      0.0|      0.0|1421971989|1421971989|    0.003|      0.0|    0.0|    0.0|    0.0|              0|           0|               0|           0|         0|         1|         1|         1|         1|               1|               1|             1|    Normal|    0| []|(29,[0,1,2,4,6,12...|(29,[0,1,2,4,6,12...|\n",
      "|   59.166.0.9|36370|149.171.126.1| 17155|  tcp|  FIN| 0.012851|  2646| 24666|  31|  29|  7.0| 15.0|      -|   1607968.2|1.5006459E7|   42|   44| 255| 255| 446772879|580675543|     63|    561|          0|          0|17.682407|16.971146|1421970283|1421970283| 0.305707| 0.284674|7.38E-4|5.99E-4|1.39E-4|              0|           0|               0|           0|         0|         8|        14|         3|         4|               1|               1|             1|    Normal|    0| []|[36370.0,17155.0,...|[36370.0,17155.0,...|\n",
      "|   59.166.0.3| 3451|149.171.126.8| 47468|  tcp|  FIN| 0.012927|  2646| 24666|  31|  29|  7.0| 15.0|      -|   1598514.6|1.4918233E7|   42|   44| 255| 255|1119289550|580675543|     63|    561|          0|          0| 17.42088|17.052643|1421970288|1421970288|  0.30761| 0.286721|7.27E-4|5.87E-4| 1.4E-4|              0|           0|               0|           0|         0|         4|         5|         3|         2|               1|               1|             1|    Normal|    0| []|[3451.0,47468.0,2...|[3451.0,47468.0,2...|\n",
      "+-------------+-----+-------------+------+-----+-----+---------+------+------+----+----+-----+-----+-------+------------+-----------+-----+-----+----+----+----------+---------+-------+-------+-----------+-----------+---------+---------+----------+----------+---------+---------+-------+-------+-------+---------------+------------+----------------+------------+----------+----------+----------+----------+----------+----------------+----------------+--------------+----------+-----+---+--------------------+--------------------+\n",
      "only showing top 10 rows\n",
      "\n"
     ]
    }
   ],
   "source": [
    "encoded_df.show(10)"
   ]
  },
  {
   "cell_type": "markdown",
   "metadata": {
    "id": "PtA6I8rck30J"
   },
   "source": [
    "**IV. Multi-class Classification**\n"
   ]
  },
  {
   "cell_type": "markdown",
   "metadata": {
    "id": "uLJClRzJ0aDz"
   },
   "source": [
    "**IV.A.** \n",
    "Splitting service column"
   ]
  },
  {
   "cell_type": "code",
   "execution_count": 16,
   "metadata": {
    "id": "J6DxGbGa9TWf"
   },
   "outputs": [],
   "source": [
    "# Method for indexing service column that is labeled\n",
    "def service_indexer(df):\n",
    "  indexer = ft.StringIndexer(inputCol='service', outputCol='service_int')\n",
    "  indexer_fitted = indexer.fit(df)\n",
    "  service_ind = indexer_fitted.transform(df)\n",
    "  return service_ind"
   ]
  },
  {
   "cell_type": "code",
   "execution_count": 17,
   "metadata": {
    "id": "OBPENPnXABPA"
   },
   "outputs": [],
   "source": [
    "# spliting labeled and unlabeled service\n",
    "unlabeled_service = encoded_df.filter(df.service == '-')\n",
    "labeled_service = encoded_df.filter(df.service != '-')\n",
    "\n",
    "# Indexing service labeled column\n",
    "indexed_service = service_indexer(labeled_service)\n",
    "\n",
    "# creating new df with selected column for correlation\n",
    "multi_class_df = indexed_service.select([\"features\",\"service_int\"])"
   ]
  },
  {
   "cell_type": "code",
   "execution_count": null,
   "metadata": {
    "colab": {
     "base_uri": "https://localhost:8080/"
    },
    "id": "afSQL-Q6ilrP",
    "outputId": "abc4aa80-7cb3-4f97-ee4d-c90c7cdce3b2"
   },
   "outputs": [
    {
     "name": "stdout",
     "output_type": "stream",
     "text": [
      "+-----------+------+\n",
      "|service_int| count|\n",
      "+-----------+------+\n",
      "|        8.0|   113|\n",
      "|        0.0|386755|\n",
      "|        7.0|   142|\n",
      "|        1.0|203531|\n",
      "|        4.0| 46981|\n",
      "|       11.0|    31|\n",
      "|        3.0| 81132|\n",
      "|        2.0|124849|\n",
      "|       10.0|    37|\n",
      "|        6.0|  1490|\n",
      "|        5.0| 45074|\n",
      "|        9.0|   102|\n",
      "+-----------+------+\n",
      "\n"
     ]
    }
   ],
   "source": [
    "multi_class_df.groupby('service_int').count().show()"
   ]
  },
  {
   "cell_type": "markdown",
   "metadata": {
    "id": "yjxQuafTEkLu"
   },
   "source": [
    "**IV.B.** Find Correlation between service column and other selected columns"
   ]
  },
  {
   "cell_type": "code",
   "execution_count": 18,
   "metadata": {
    "id": "7JIgTMgVGKPA"
   },
   "outputs": [],
   "source": [
    "import pyspark.ml.stat as st\n",
    "import matplotlib.pyplot as plt\n",
    "import pandas as pd\n",
    "import seaborn as sns"
   ]
  },
  {
   "cell_type": "code",
   "execution_count": 19,
   "metadata": {
    "id": "xHQuQIsXganJ"
   },
   "outputs": [],
   "source": [
    "# Creating method for column assembler for features extraction\n",
    "def vector_assembler(df, cols, new_col):\n",
    "  assembler = ft.VectorAssembler(inputCols = cols, outputCol = new_col)\n",
    "  pipeline = Pipeline(stages = [assembler])\n",
    "  encoded = pipeline.fit(df).transform(df)\n",
    "  return encoded"
   ]
  },
  {
   "cell_type": "code",
   "execution_count": 20,
   "metadata": {
    "id": "GNhIa0gzFRqH"
   },
   "outputs": [],
   "source": [
    "# Preparing data for correlation by creating equivalent array matrix by combining features and label variable service_int\n",
    "encoded_cor = vector_assembler(multi_class_df, [\"features\",\"service_int\"], \"corr_columns\")\n",
    "\n",
    "# Saving into variable and selecting the first index of the result\n",
    "matrix = st.Correlation.corr(encoded_cor, \"corr_columns\").collect()[0][0]"
   ]
  },
  {
   "cell_type": "code",
   "execution_count": 21,
   "metadata": {
    "colab": {
     "base_uri": "https://localhost:8080/"
    },
    "id": "s3z-PMdPE3fl",
    "outputId": "4816e02d-ca93-4b68-efcd-0e81e9d49529"
   },
   "outputs": [
    {
     "name": "stdout",
     "output_type": "stream",
     "text": [
      "+--------------------+--------------------+--------------------+--------------------+--------------------+--------------------+--------------------+--------------------+--------------------+--------------------+--------------------+--------------------+--------------------+--------------------+--------------------+--------------------+---------------+--------------------+--------------------+--------------------+--------------------+--------------------+--------------------+--------------------+--------------------+--------------------+--------------------+--------------------+--------------------+--------------------+\n",
      "|               sport|              dsport|              sbytes|              dbytes|                sttl|                dttl|               spkts|               dpkts|                swin|                dwin|               stcpb|               dtcpb|             smeansz|             dmeansz|         trans_depth|         res_bdy_len|is_sm_ips_ports|        ct_state_ttl|    ct_flw_http_mthd|        is_ftp_login|          ct_ftp_cmd|          ct_srv_src|          ct_srv_dst|          ct_dst_ltm|          ct_src_ltm|    ct_src_dport_ltm|    ct_dst_sport_ltm|      ct_dst_src_ltm|               label|             service|\n",
      "+--------------------+--------------------+--------------------+--------------------+--------------------+--------------------+--------------------+--------------------+--------------------+--------------------+--------------------+--------------------+--------------------+--------------------+--------------------+--------------------+---------------+--------------------+--------------------+--------------------+--------------------+--------------------+--------------------+--------------------+--------------------+--------------------+--------------------+--------------------+--------------------+--------------------+\n",
      "|                 1.0|0.004334916570056803|-1.70768568549136...|0.002559483946078714|-0.05100357241606...|0.033572992140124866|0.003766592753163...|0.004741468028568774|0.023468045238188007|0.023472403775784825|0.017472229216642245|0.017214976880762463|0.004105029699902284| 0.01441571688546206|0.009948413050324097|0.001868118488920...|            NaN|-0.04665494624450295|0.016215835142110512|0.004164189164242...|0.001992924650839...|-0.08042592561171749|-0.08060413060845147|-0.06128895190564207|-0.05550585080046...|-0.07486537817713897|-0.08342882022789701|-0.07875812407076233|-0.03502877822723...| 0.01556115632150445|\n",
      "|0.004334916570056803|                 1.0|-0.01400797585438...|-0.05185649355258427|-0.07207455808857627|-0.02758707924970335|-0.06601322846721654|-0.07282664708150456| 0.30520716659384783| 0.30512664451141513|  0.2237116278581412|  0.2229737921264174| 0.12636377640937752|  0.1288553947026118|-0.13889092317222926|-0.05123795318960552|            NaN|-0.06680901801290193| -0.1425141369435159|-0.07493117635352212|-0.07005280221617151|-0.01135693747869...|-0.01170409064789...| 0.06067269623599779| 0.05854152546534531|-0.07749037508363585|-0.06276908108930102|0.029902285624451533|-0.06085868038512033| 0.17175759266735122|\n",
      "|-1.70768568549136...|-0.01400797585438...|                 1.0| 0.02369636365658746| 0.02386327664797468| 0.08431523231603796|   0.759726271577755| 0.11298485595008126| 0.06611644235466586|  0.0661176912155419| 0.04716363617212165|  0.0471641630667284| 0.18932282543422924|-0.01189037574821...|-0.01058663757982...| 0.01846580436584258|            NaN| 0.04741690220921326|-0.01424045947340...|-0.00925332126530...|-0.00865885047738...|-0.02466303917481877|-0.02491218766928735|-0.01804936171224...|-0.01685945971536...|-0.01540653119242...|-0.01308095849686...|-0.01724562415402101| 0.06120915059035966| 0.07777547328120045|\n",
      "|0.002559483946078714|-0.05185649355258427| 0.02369636365658746|                 1.0|-0.03255483401914594|0.006046872542248453|  0.5645054113530898|  0.9609212591172908| 0.15030289988822748| 0.15030772788482835| 0.11053974453610362| 0.11020341666849803|-0.08208029315179659|  0.6463973728220884| 0.20831565035463093|  0.8752001610912264|            NaN|-0.01754851952015291| 0.21054038101620656|-0.03233025966973...|-0.03022675046711...|-0.04430647789917066|-0.04452472734847638|-0.02919330143073...|-0.04465533025365456|-0.02662754267145...|-0.02642259427950...|-0.04051550724893...|-0.01369550497290...|-0.00852683617809...|\n",
      "|-0.05100357241606...|-0.07207455808857627| 0.02386327664797468|-0.03255483401914594|                 1.0|  0.3435219513150967|-0.02119903977109782|-0.04782603435491055|-0.07716933856127052|-0.07716186772922083|-0.05746569511888309|-0.05632612515658084|-0.03898376325327...|-0.14159205039246084| 0.02560366194488273| -0.0299991591080038|            NaN|  0.8872763082377171|0.015588186338202215|-0.03425522196291281|-0.03269091594269646|  0.5002298301541445|  0.4975772718047889| 0.31973541402900424| 0.29437718650758204|  0.4471771695784601| 0.47171899530758904| 0.49184664449761717|  0.8304281594272892|-0.07208853791921162|\n",
      "|0.033572992140124866|-0.02758707924970335| 0.08431523231603796|0.006046872542248453|  0.3435219513150967|                 1.0| 0.05467522293638544|0.012569189424452664| 0.20167795713730613| 0.20169141937110438|  0.1474441651125587|  0.1488863380523557| 0.05762546899568142| 0.03600320177712311| 0.15666265900305645|-0.00398984305209...|            NaN|  0.4178502052805295|  0.1666780751842042|0.001900950965435...|1.006728483017245...|-0.17768167610908353|-0.18242942085425173|  -0.185080916894672|-0.16099430870761014|-0.14498612616563897|-0.14656841365056528|-0.15804799749080004|  0.6223725400761259| 0.11441898641519042|\n",
      "|0.003766592753163...|-0.06601322846721654|   0.759726271577755|  0.5645054113530898|-0.02119903977109782| 0.05467522293638544|                 1.0|   0.691204544069689| 0.23975700715579207|  0.2397637919016136|   0.175110075117251|  0.1747372218848988| 0.11809241927080769|  0.3458332225091604| 0.09583959380660957|  0.5033521855340507|            NaN|6.123134785935367E-4| 0.09346258270890757|0.059845693382563736|  0.0559104789838902|-0.08285691078128753|-0.08320233369306362|-0.04061102337211...|-0.05436933961943313|-0.05047694141410833|-0.04474026587219...|-0.05547858023014...| 0.01419813388537971|   0.228825458292178|\n",
      "|0.004741468028568774|-0.07282664708150456| 0.11298485595008126|  0.9609212591172908|-0.04782603435491055|0.012569189424452664|   0.691204544069689|                 1.0|  0.2342890010630197|  0.2342966866275571|  0.1721978234947463| 0.17182987979289455|-0.02717754212619...|  0.6003727753249966| 0.18494900413957605|  0.8298795921450098|            NaN|-0.02873591526682...| 0.18665859122789108| 0.03101354574534739|0.028973912776354176|-0.07913551637786446|  -0.079284075999038|-0.04109330919067...|-0.05892547376907756|-0.04843057501148...|-0.04502883599552...|-0.05893383072699...|-0.02145405679081...| 0.13849004654117195|\n",
      "|0.023468045238188007| 0.30520716659384783| 0.06611644235466586| 0.15030289988822748|-0.07716933856127052| 0.20167795713730613| 0.23975700715579207|  0.2342890010630197|                 1.0|  0.9999680017735788|  0.7349559538385375|  0.7352210350462117|  0.3860193264778214|  0.4740773776738117|  0.3539626868940603| 0.13009513350762883|            NaN|-0.06064726116676...| 0.36296806606744736| 0.18745736852468456| 0.17525300682965422| -0.2672538154942106|-0.26795092877218235|-0.09464486847936225|-0.10155684821781583| -0.2204249495125365|-0.19661652923973377|-0.15369860265843382|0.004604280963449397|  0.7378925880241889|\n",
      "|0.023472403775784825| 0.30512664451141513|  0.0661176912155419| 0.15030772788482835|-0.07716186772922083| 0.20169141937110438|  0.2397637919016136|  0.2342966866275571|  0.9999680017735788|                 1.0|  0.7349340119047523|  0.7352192963409081|  0.3859646997386206|   0.474097733915913| 0.35397401358656355| 0.13009929700475176|            NaN|-0.06063957714273252|  0.3629796810544883| 0.18746336701979255| 0.17525861479446267|-0.26725352215066756|-0.26795067157896596|-0.09464277132976326|-0.10155570215511023|-0.22041850426900214|-0.19661060004863218| -0.1536953736799654|0.004611880358407324|  0.7378737780277483|\n",
      "+--------------------+--------------------+--------------------+--------------------+--------------------+--------------------+--------------------+--------------------+--------------------+--------------------+--------------------+--------------------+--------------------+--------------------+--------------------+--------------------+---------------+--------------------+--------------------+--------------------+--------------------+--------------------+--------------------+--------------------+--------------------+--------------------+--------------------+--------------------+--------------------+--------------------+\n",
      "only showing top 10 rows\n",
      "\n"
     ]
    }
   ],
   "source": [
    "# Convert feature matrix into dataframe\n",
    "corrMatrix = matrix.toArray().tolist()\n",
    "df_corr = spark.createDataFrame(corrMatrix,all_features_name + [\"service\"])\n",
    "df_corr.show(10)"
   ]
  },
  {
   "cell_type": "markdown",
   "metadata": {
    "id": "uIePmkEs4kZP"
   },
   "source": [
    "**IV.C.** \n",
    "Plotting the correlation using seaborn"
   ]
  },
  {
   "cell_type": "code",
   "execution_count": 22,
   "metadata": {
    "colab": {
     "base_uri": "https://localhost:8080/",
     "height": 585
    },
    "id": "jWizBaVpmXIm",
    "outputId": "3a386f00-d03e-4881-a44a-f35893c75ed3"
   },
   "outputs": [
    {
     "data": {
      "image/png": "[encoded data removed]",
      "text/plain": [
       "<Figure size 864x576 with 2 Axes>"
      ]
     },
     "metadata": {
      "needs_background": "light"
     },
     "output_type": "display_data"
    }
   ],
   "source": [
    "%matplotlib inline\n",
    "corr_plot = df_corr.toPandas()\n",
    "fig, axes = plt.subplots(figsize=(12,8))\n",
    "ax = plt.axes()\n",
    "ax = sns.heatmap(corr_plot,cmap='coolwarm',linecolor='white',linewidths=1)\n",
    "ax.set_yticklabels(\n",
    "    ax.get_xticklabels(),\n",
    "    rotation=360,\n",
    "    horizontalalignment='right'\n",
    ");\n",
    "plt.tight_layout()"
   ]
  },
  {
   "cell_type": "code",
   "execution_count": null,
   "metadata": {
    "colab": {
     "base_uri": "https://localhost:8080/"
    },
    "id": "3_-yJfB0KlZk",
    "outputId": "ea4810fe-3d47-4830-f48f-2ed095a13de8"
   },
   "outputs": [
    {
     "name": "stdout",
     "output_type": "stream",
     "text": [
      "dur :  0.13455568644244664\n",
      "spkts :  0.22882545829215292\n",
      "dpkts :  0.1384900465411822\n",
      "sbytes :  0.07777547328121397\n",
      "dttl :  0.11441898641520461\n",
      "dload :  0.09576671407521797\n",
      "sloss :  0.17966291987646407\n",
      "dloss :  0.06973523580087788\n",
      "sintpkt :  0.03551927422835679\n",
      "dintpkt :  0.04344604129387843\n",
      "sjit :  0.05062625007200671\n",
      "swin :  0.7378925880241389\n",
      "stcpb :  0.5415075844029789\n",
      "dtcpb :  0.5422413756807171\n",
      "dwin :  0.7378737780275246\n",
      "tcprtt :  0.09366211695969304\n"
     ]
    }
   ],
   "source": [
    "for i, row in enumerate(corr_plot[\"service\"]):\n",
    "  if row > 0 and row < 1:\n",
    "    print(all_features_name[i], \": \",row)\n"
   ]
  },
  {
   "cell_type": "markdown",
   "metadata": {
    "id": "eue-4yDGM62X"
   },
   "source": [
    "Only 16 rows are correlated with service column thus this column will be save to a variable for training the multi class model"
   ]
  },
  {
   "cell_type": "code",
   "execution_count": 23,
   "metadata": {
    "id": "8YXEJEYLNXDk"
   },
   "outputs": [],
   "source": [
    "multi_columns = [all_features_name[i] for i, row in enumerate(corr_plot[\"service\"]) if row > 0 and row <1]"
   ]
  },
  {
   "cell_type": "code",
   "execution_count": null,
   "metadata": {
    "colab": {
     "base_uri": "https://localhost:8080/"
    },
    "id": "cs18FwbVkIdj",
    "outputId": "bf908720-d00a-4953-b777-c0c7c95db14b"
   },
   "outputs": [
    {
     "name": "stdout",
     "output_type": "stream",
     "text": [
      "['dur', 'spkts', 'dpkts', 'sbytes', 'dttl', 'dload', 'sloss', 'dloss', 'sintpkt', 'dintpkt', 'sjit', 'swin', 'stcpb', 'dtcpb', 'dwin', 'tcprtt']\n"
     ]
    }
   ],
   "source": [
    "# Selected column processing for ML Multi Classification training\n",
    "print(multi_columns)"
   ]
  },
  {
   "cell_type": "code",
   "execution_count": 24,
   "metadata": {
    "id": "u4aKxoFCpPm9"
   },
   "outputs": [],
   "source": [
    "# re-preprocessing df for labeled service\n",
    "# Dropping previous features column to recreate base on the result of the correlation\n",
    "indexed_service = indexed_service.drop(\"features\")\n",
    "\n",
    "# Split labeled and unlabeled service\n",
    "split_df = indexed_service.filter(df.service != '-')\n",
    "\n",
    "# Recreating features column\n",
    "multi_df = vector_assembler(split_df, multi_columns, \"features\")"
   ]
  },
  {
   "cell_type": "code",
   "execution_count": null,
   "metadata": {
    "colab": {
     "base_uri": "https://localhost:8080/"
    },
    "id": "ApvMU30Lt81F",
    "outputId": "c6e5d54d-9c11-414d-ffaf-17ac024a04ce"
   },
   "outputs": [
    {
     "name": "stdout",
     "output_type": "stream",
     "text": [
      "+-----------+------+\n",
      "|service_int| count|\n",
      "+-----------+------+\n",
      "|        8.0|   113|\n",
      "|        0.0|386755|\n",
      "|        7.0|   142|\n",
      "|        1.0|203531|\n",
      "|        4.0| 46981|\n",
      "|       11.0|    31|\n",
      "|        3.0| 81132|\n",
      "|        2.0|124849|\n",
      "|       10.0|    37|\n",
      "|        6.0|  1490|\n",
      "|        5.0| 45074|\n",
      "|        9.0|   102|\n",
      "+-----------+------+\n",
      "\n"
     ]
    }
   ],
   "source": [
    "multi_df.groupby('service_int').count().show()"
   ]
  },
  {
   "cell_type": "markdown",
   "metadata": {
    "id": "5CAZtiV1rLsz"
   },
   "source": [
    "**V. Fitting and training the Model**"
   ]
  },
  {
   "cell_type": "code",
   "execution_count": 25,
   "metadata": {
    "id": "o5BvCKt5FMh4"
   },
   "outputs": [],
   "source": [
    "import pyspark.ml.classification as cl\n",
    "from pyspark.ml.tuning import ParamGridBuilder, CrossValidator\n",
    "from pyspark.ml.evaluation import BinaryClassificationEvaluator\n",
    "from pyspark.ml.evaluation import MulticlassClassificationEvaluator\n",
    "from pyspark.mllib.evaluation import BinaryClassificationMetrics\n",
    "from pyspark.mllib.util import MLUtils\n",
    "from pyspark.mllib.evaluation import MulticlassMetrics"
   ]
  },
  {
   "cell_type": "code",
   "execution_count": 31,
   "metadata": {
    "id": "ebV2KrQJn2Ap"
   },
   "outputs": [],
   "source": [
    "import numpy as np\n",
    "def display_cm(m):\n",
    "  a = m.toArray().astype(np.float)\n",
    "  print(a)\n",
    "  print(m)\n",
    "  row_sums = a.sum(axis=1)\n",
    "  percentage_matrix = a.astype(np.float) / row_sums[:, np.newaxis]\n",
    "  #percentage_matrix =   100 *a.astype(np.float64) /a.astype(np.float64).sum(axis=1)\n",
    "  print(percentage_matrix)\n",
    "  plt.figure(figsize=(3, 3))\n",
    "  sns.heatmap(percentage_matrix, annot=True,  fmt='.2f', xticklabels=['0' ,'1','2'], yticklabels=['0' ,'1','2']);\n",
    "  plt.title('Confusion Matrix');"
   ]
  },
  {
   "cell_type": "code",
   "execution_count": null,
   "metadata": {
    "id": "TGYNIy2foayH"
   },
   "outputs": [],
   "source": []
  },
  {
   "cell_type": "markdown",
   "metadata": {
    "id": "i6lkCvby7_ZM"
   },
   "source": [
    "***V.A. Decision Tree Classifier***"
   ]
  },
  {
   "cell_type": "code",
   "execution_count": 26,
   "metadata": {
    "colab": {
     "base_uri": "https://localhost:8080/"
    },
    "id": "d2kU6CvlSPig",
    "outputId": "d137b823-3104-41c5-dd1c-8d4c325b8b51"
   },
   "outputs": [
    {
     "name": "stdout",
     "output_type": "stream",
     "text": [
      "+------------------------------+-----------+------------------------------+----------+------------------------------+\n",
      "|                      features|service_int|                   probability|prediction|                 rawPrediction|\n",
      "+------------------------------+-----------+------------------------------+----------+------------------------------+\n",
      "|(14,[0,1,2,4,10],[33631.0,5...|        0.0|[1.0,0.0,0.0,0.0,0.0,0.0,0....|       0.0|[270767.0,0.0,0.0,0.0,0.0,0...|\n",
      "|(14,[0,1,2,4,10],[38657.0,5...|        0.0|[1.0,0.0,0.0,0.0,0.0,0.0,0....|       0.0|[270767.0,0.0,0.0,0.0,0.0,0...|\n",
      "|(14,[0,1,2,4,10],[40385.0,5...|        0.0|[1.0,0.0,0.0,0.0,0.0,0.0,0....|       0.0|[270767.0,0.0,0.0,0.0,0.0,0...|\n",
      "|(14,[0,1,2,4,10],[42707.0,5...|        0.0|[1.0,0.0,0.0,0.0,0.0,0.0,0....|       0.0|[270767.0,0.0,0.0,0.0,0.0,0...|\n",
      "|(14,[0,1,2,4,10],[46811.0,5...|        0.0|[1.0,0.0,0.0,0.0,0.0,0.0,0....|       0.0|[270767.0,0.0,0.0,0.0,0.0,0...|\n",
      "|(14,[0,1,2,4,10],[52858.0,5...|        0.0|[1.0,0.0,0.0,0.0,0.0,0.0,0....|       0.0|[270767.0,0.0,0.0,0.0,0.0,0...|\n",
      "|(14,[0,1,2,4,10],[56933.0,5...|        0.0|[1.0,0.0,0.0,0.0,0.0,0.0,0....|       0.0|[270767.0,0.0,0.0,0.0,0.0,0...|\n",
      "|(14,[0,1,2,4,10],[1043.0,53...|        0.0|[1.0,0.0,0.0,0.0,0.0,0.0,0....|       0.0|[270767.0,0.0,0.0,0.0,0.0,0...|\n",
      "|(14,[0,1,2,4,10],[1043.0,53...|        0.0|[1.0,0.0,0.0,0.0,0.0,0.0,0....|       0.0|[270767.0,0.0,0.0,0.0,0.0,0...|\n",
      "|(14,[0,1,2,4,10],[1043.0,53...|        0.0|[1.0,0.0,0.0,0.0,0.0,0.0,0....|       0.0|[270767.0,0.0,0.0,0.0,0.0,0...|\n",
      "+------------------------------+-----------+------------------------------+----------+------------------------------+\n",
      "only showing top 10 rows\n",
      "\n"
     ]
    }
   ],
   "source": [
    "# Split for train and test\n",
    "df_train, df_test = multi_df.randomSplit([0.7,0.3], seed=88)\n",
    "\n",
    "# Classifier\n",
    "dt = cl.DecisionTreeClassifier(\n",
    "    maxDepth=5,\n",
    "    maxBins=134,\n",
    "    featuresCol=\"features\",\n",
    "    labelCol='service_int'\n",
    ")\n",
    "\n",
    "# Train model with Training Data\n",
    "dtModel = dt.fit(df_train)\n",
    "dtpredictions = dtModel.transform(df_test)\n",
    "dtpredictions.filter(dtpredictions['prediction'] == 0) \\\n",
    "    .select(\"features\",\"service_int\",\"probability\",\"prediction\",\"rawPrediction\") \\\n",
    "    .orderBy(\"probability\", ascending=False) \\\n",
    "    .show(n = 10, truncate = 30)"
   ]
  },
  {
   "cell_type": "code",
   "execution_count": 27,
   "metadata": {
    "colab": {
     "base_uri": "https://localhost:8080/"
    },
    "id": "mExBqw-i1r1f",
    "outputId": "037383e3-f24b-4571-a2d1-3f561b9ff8cd"
   },
   "outputs": [
    {
     "name": "stdout",
     "output_type": "stream",
     "text": [
      "Accuracy: 0.9998124993165051\n"
     ]
    }
   ],
   "source": [
    "# Evaluate model\n",
    "dtevaluator = MulticlassClassificationEvaluator(predictionCol=\"prediction\").setLabelCol(\"service_int\")\n",
    "print('Accuracy:', dtevaluator.evaluate(dtpredictions))"
   ]
  },
  {
   "cell_type": "code",
   "execution_count": 33,
   "metadata": {
    "id": "HMhI6GW2sC7V"
   },
   "outputs": [],
   "source": [
    "dtevaluator.evaluate(multi_df, {dtevaluator.metricName: \"truePositiveRateByLabel\",dtevaluator.metricLabel: 1.0})"
   ]
  },
  {
   "cell_type": "code",
   "execution_count": 40,
   "metadata": {
    "colab": {
     "base_uri": "https://localhost:8080/"
    },
    "id": "Eyg_4NCzuc2G",
    "outputId": "d73b03ea-34f7-4057-f003-7ec7cac66597"
   },
   "outputs": [
    {
     "name": "stdout",
     "output_type": "stream",
     "text": [
      "0.0\n"
     ]
    }
   ],
   "source": [
    "print(to_rdd[3][1])"
   ]
  },
  {
   "cell_type": "code",
   "execution_count": null,
   "metadata": {
    "id": "OVjXLU_8uBCS"
   },
   "outputs": [],
   "source": [
    "# Instantiate metrics object\n",
    "metrics = MulticlassMetrics(to_rdd)\n",
    "\n",
    "# Overall statistics\n",
    "precision = metrics.precision()\n",
    "recall = metrics.recall()\n",
    "f1Score = metrics.fMeasure()\n",
    "print(\"Summary Stats\")\n",
    "print(\"Precision = %s\" % precision)\n",
    "print(\"Recall = %s\" % recall)\n",
    "print(\"F1 Score = %s\" % f1Score)"
   ]
  },
  {
   "cell_type": "markdown",
   "metadata": {
    "id": "dlbxAxMG76LX"
   },
   "source": [
    "***V.B. Random Forrest Classifier***"
   ]
  },
  {
   "cell_type": "code",
   "execution_count": 28,
   "metadata": {
    "colab": {
     "base_uri": "https://localhost:8080/"
    },
    "id": "PaocAqECbZKa",
    "outputId": "d8d8fe06-48eb-4612-cabf-3e195f165dbb"
   },
   "outputs": [
    {
     "name": "stdout",
     "output_type": "stream",
     "text": [
      "+------------------------------+-----------+------------------------------+----------+------------------------------+\n",
      "|                      features|service_int|                   probability|prediction|                 rawPrediction|\n",
      "+------------------------------+-----------+------------------------------+----------+------------------------------+\n",
      "|(14,[0,1,2,3,4,5,10,11],[10...|        0.0|[0.9999187037455587,7.38874...|       0.0|[99.99187037455589,7.388745...|\n",
      "|(14,[0,1,2,3,4,5,10,11],[11...|        0.0|[0.9999187037455587,7.38874...|       0.0|[99.99187037455589,7.388745...|\n",
      "|(14,[0,1,2,3,4,5,10,11],[10...|        0.0|[0.9999187037455587,7.38874...|       0.0|[99.99187037455589,7.388745...|\n",
      "|(14,[0,1,2,3,4,5,10,11],[10...|        0.0|[0.9999187037455587,7.38874...|       0.0|[99.99187037455589,7.388745...|\n",
      "|(14,[0,1,2,3,4,5,10,11],[10...|        0.0|[0.9999187037455587,7.38874...|       0.0|[99.99187037455589,7.388745...|\n",
      "|(14,[0,1,2,3,4,5,10,11],[10...|        0.0|[0.9999187037455587,7.38874...|       0.0|[99.99187037455589,7.388745...|\n",
      "|(14,[0,1,2,3,4,5,10,11],[11...|        0.0|[0.9999187037455587,7.38874...|       0.0|[99.99187037455589,7.388745...|\n",
      "|(14,[0,1,2,3,4,5,10,11],[11...|        0.0|[0.9999187037455587,7.38874...|       0.0|[99.99187037455589,7.388745...|\n",
      "|(14,[0,1,2,3,4,5,10,11],[11...|        0.0|[0.9999187037455587,7.38874...|       0.0|[99.99187037455589,7.388745...|\n",
      "|(14,[0,1,2,3,4,5,10,11],[11...|        0.0|[0.9999187037455587,7.38874...|       0.0|[99.99187037455589,7.388745...|\n",
      "+------------------------------+-----------+------------------------------+----------+------------------------------+\n",
      "only showing top 10 rows\n",
      "\n"
     ]
    }
   ],
   "source": [
    "# Random forrest\n",
    "# Split for train and test\n",
    "df_train, df_test = multi_df.randomSplit([0.7,0.3], seed=88)\n",
    "\n",
    "rf = cl.RandomForestClassifier(labelCol=\"service_int\", \\\n",
    "                            featuresCol=\"features\", \\\n",
    "                            numTrees = 100, \\\n",
    "                            maxDepth = 5, \\\n",
    "                            maxBins = 134)\n",
    "\n",
    "# Train model with Training Data\n",
    "rfModel = rf.fit(df_train)\n",
    "rfpredictions = rfModel.transform(df_test)\n",
    "rfpredictions.filter(rfpredictions['prediction'] == 0) \\\n",
    "    .select(\"features\",\"service_int\",\"probability\",\"prediction\",\"rawPrediction\") \\\n",
    "    .orderBy(\"probability\", ascending=False) \\\n",
    "    .show(n = 10, truncate = 30)"
   ]
  },
  {
   "cell_type": "code",
   "execution_count": 29,
   "metadata": {
    "colab": {
     "base_uri": "https://localhost:8080/"
    },
    "id": "AwWWpsKs2CjW",
    "outputId": "e7627261-6d30-446a-82bd-861ca53a97c1"
   },
   "outputs": [
    {
     "name": "stdout",
     "output_type": "stream",
     "text": [
      "Accuracy: 0.9957400783605151\n"
     ]
    }
   ],
   "source": [
    "# Evaluate rf model\n",
    "rfevaluator = MulticlassClassificationEvaluator(predictionCol=\"prediction\").setLabelCol(\"service_int\")\n",
    "print('Accuracy:', rfevaluator.evaluate(rfpredictions))"
   ]
  },
  {
   "cell_type": "markdown",
   "metadata": {
    "id": "tL7QitrcwYr1"
   },
   "source": [
    "**V.C. Using cross validation for both ML Algorithm**"
   ]
  },
  {
   "cell_type": "code",
   "execution_count": null,
   "metadata": {
    "colab": {
     "base_uri": "https://localhost:8080/"
    },
    "id": "_IvnmdVWV4km",
    "outputId": "071e51ff-54bf-44fc-a0e8-45f1cb8e24e8"
   },
   "outputs": [
    {
     "name": "stdout",
     "output_type": "stream",
     "text": [
      "Accuracy: 0.9998106283295448\n"
     ]
    }
   ],
   "source": [
    "# Cross validate and Evaluate Decision Tree model\n",
    "dt2 = cl.DecisionTreeClassifier(\n",
    "    maxDepth=5,\n",
    "    maxBins=134,\n",
    "    featuresCol=\"features\",\n",
    "    labelCol='service_int'\n",
    ")\n",
    "\n",
    "dtparamGrid = (ParamGridBuilder()\n",
    "             .addGrid(dt2.maxDepth, [5, 10, 15, 30, 50])\n",
    "             .addGrid(dt2.maxBins, [134, 150, 163, 185, 200])\n",
    "             .build())\n",
    "\n",
    "dtevaluator = MulticlassClassificationEvaluator(predictionCol=\"prediction\").setLabelCol(\"service_int\")\n",
    "\n",
    "dtcv = CrossValidator(estimator = dt,\n",
    "                      estimatorParamMaps = dtparamGrid,\n",
    "                      evaluator = dtevaluator,\n",
    "                      numFolds = 5)\n",
    "\n",
    "dt2Model = dt.fit(df_train)\n",
    "dt2predictions = dt2Model.transform(df_test)\n",
    "print('Accuracy:', dtevaluator.evaluate(dt2predictions))\n",
    "# lrmetrics = MulticlassMetrics(dt2predictions['service_int','prediction'].rdd)\n",
    "# print('F1 Score:', lrmetrics.fMeasure(1.0,1.0))"
   ]
  },
  {
   "cell_type": "code",
   "execution_count": null,
   "metadata": {
    "colab": {
     "base_uri": "https://localhost:8080/"
    },
    "id": "G7sfKuBGxGQu",
    "outputId": "7b5a188a-c3c4-4c65-c3fd-f9a94ec9b9c1"
   },
   "outputs": [
    {
     "name": "stdout",
     "output_type": "stream",
     "text": [
      "Accuracy: 0.9971563903962285\n"
     ]
    }
   ],
   "source": [
    "# Cross Validate and Evaluate Random Forrest model\n",
    "rf2 = cl.RandomForestClassifier(labelCol=\"service_int\", \\\n",
    "                            featuresCol=\"features\", \\\n",
    "                            numTrees = 100, \\\n",
    "                            maxDepth = 5, \\\n",
    "                            maxBins = 134)\n",
    "\n",
    "rfparamGrid = (ParamGridBuilder()\n",
    "             .addGrid(rf2.maxDepth, [5, 10, 15, 30, 50])\n",
    "             .addGrid(rf2.maxBins, [134, 150, 163, 185, 200])\n",
    "             .addGrid(rf2.numTrees, [100, 120, 140, 160, 180])\n",
    "             .build())\n",
    "\n",
    "rfevaluator2 = MulticlassClassificationEvaluator(predictionCol=\"prediction\").setLabelCol(\"service_int\")\n",
    "rfcv = CrossValidator(estimator = rf2,\n",
    "                      estimatorParamMaps = rfparamGrid,\n",
    "                      evaluator = rfevaluator2,\n",
    "                      numFolds = 5)\n",
    "\n",
    "rf2Model = rf2.fit(df_train)\n",
    "rf2predictions = rf2Model.transform(df_test)\n",
    "\n",
    "print('Accuracy:', rfevaluator2.evaluate(rf2predictions))\n",
    "# lrmetrics = MulticlassMetrics(rf2predictions['service_int','prediction'].rdd)\n",
    "# print('F1 Score:', lrmetrics.fMeasure(1.0,1.0))"
   ]
  },
  {
   "cell_type": "markdown",
   "metadata": {
    "id": "IJYc5nZspZuq"
   },
   "source": [
    "**VI. Result**\n",
    "\n",
    "As the final result, the Decision Tree that underwent Cross Validation has a higher percentage of accuracy with 99.9%. Therefore the model will be used to produce a new dataset."
   ]
  },
  {
   "cell_type": "code",
   "execution_count": null,
   "metadata": {
    "colab": {
     "base_uri": "https://localhost:8080/"
    },
    "id": "0qP1NHZHE9V-",
    "outputId": "211332e5-ed65-4767-c700-93c384844bab"
   },
   "outputs": [
    {
     "name": "stdout",
     "output_type": "stream",
     "text": [
      "+--------------------+--------------------+----------+\n",
      "|       rawPrediction|         probability|prediction|\n",
      "+--------------------+--------------------+----------+\n",
      "|[270767.0,0.0,0.0...|[1.0,0.0,0.0,0.0,...|       0.0|\n",
      "|[270767.0,0.0,0.0...|[1.0,0.0,0.0,0.0,...|       0.0|\n",
      "|[270767.0,0.0,0.0...|[1.0,0.0,0.0,0.0,...|       0.0|\n",
      "|[270767.0,0.0,0.0...|[1.0,0.0,0.0,0.0,...|       0.0|\n",
      "|[270767.0,0.0,0.0...|[1.0,0.0,0.0,0.0,...|       0.0|\n",
      "|[270767.0,0.0,0.0...|[1.0,0.0,0.0,0.0,...|       0.0|\n",
      "|[270767.0,0.0,0.0...|[1.0,0.0,0.0,0.0,...|       0.0|\n",
      "|[0.0,0.0,0.0,0.0,...|[0.0,0.0,0.0,0.0,...|       7.0|\n",
      "|[0.0,0.0,0.0,0.0,...|[0.0,0.0,0.0,0.0,...|       7.0|\n",
      "|[0.0,0.0,0.0,0.0,...|[0.0,0.0,0.0,0.0,...|       7.0|\n",
      "+--------------------+--------------------+----------+\n",
      "only showing top 10 rows\n",
      "\n"
     ]
    }
   ],
   "source": [
    "# Training unlabeled service using Decision Tree Classifier with Cross Validation\n",
    "service_pred = dt2Model.transform(unlabeled_service)\n",
    "service_pred.select([\"rawPrediction\", \"probability\",\"prediction\"]).show(10)"
   ]
  },
  {
   "cell_type": "code",
   "execution_count": null,
   "metadata": {
    "colab": {
     "base_uri": "https://localhost:8080/"
    },
    "id": "sHefktJBjsWy",
    "outputId": "aadfa85d-11fb-41a9-abff-619ae0316614"
   },
   "outputs": [
    {
     "name": "stdout",
     "output_type": "stream",
     "text": [
      "['srcip', 'sport', 'dstip', 'dsport', 'proto', 'State', 'dur', 'sbytes', 'dbytes', 'sttl', 'dttl', 'sloss', 'dloss', 'sload', 'dload', 'spkts', 'dpkts', 'swin', 'dwin', 'stcpb', 'dtcpb', 'smeansz', 'dmeansz', 'trans_depth', 'res_bdy_len', 'sjit', 'djit', 'stime', 'ltime', 'sintpkt', 'dintpkt', 'tcprtt', 'synack', 'ackdat', 'is_sm_ips_ports', 'ct_state_ttl', 'ct_flw_http_mthd', 'is_ftp_login', 'ct_ftp_cmd', 'ct_srv_src', 'ct_srv_dst', 'ct_dst_ltm', 'ct_src_ltm', 'ct_src_dport_ltm', 'ct_dst_sport_ltm', 'ct_dst_src_ltm', 'attack_cat', 'label']\n"
     ]
    }
   ],
   "source": [
    "# Extracting the columns on the first created schema\n",
    "dataset_cols = [c for c in df.columns if c != \"service\"]\n",
    "print(dataset_cols)"
   ]
  },
  {
   "cell_type": "code",
   "execution_count": null,
   "metadata": {
    "id": "CBsxNeQjoPTL"
   },
   "outputs": [],
   "source": [
    "# preparing two dataframe to create one new dataframe for binary classification\n",
    "# predicted service column\n",
    "dataset1 = service_pred.select(dataset_cols + [fn.col('prediction').alias('service')]) \n",
    "\n",
    "# labeled service column\n",
    "dataset2 = indexed_service.select(dataset_cols + [fn.col('service_int').alias('service')])"
   ]
  },
  {
   "cell_type": "code",
   "execution_count": null,
   "metadata": {
    "colab": {
     "base_uri": "https://localhost:8080/"
    },
    "id": "0f-lTgK9qh96",
    "outputId": "6e2122ec-6a81-4d32-a800-cb72e214581e"
   },
   "outputs": [
    {
     "name": "stdout",
     "output_type": "stream",
     "text": [
      "+-------------+-----+-------------+------+-----+-----+---------+------+------+----+----+-----+-----+------------+-----------+-----+-----+----+----+----------+---------+-------+-------+-----------+-----------+---------+---------+----------+----------+---------+---------+-------+-------+-------+---------------+------------+----------------+------------+----------+----------+----------+----------+----------+----------------+----------------+--------------+----------+-----+-------+\n",
      "|        srcip|sport|        dstip|dsport|proto|State|      dur|sbytes|dbytes|sttl|dttl|sloss|dloss|       sload|      dload|spkts|dpkts|swin|dwin|     stcpb|    dtcpb|smeansz|dmeansz|trans_depth|res_bdy_len|     sjit|     djit|     stime|     ltime|  sintpkt|  dintpkt| tcprtt| synack| ackdat|is_sm_ips_ports|ct_state_ttl|ct_flw_http_mthd|is_ftp_login|ct_ftp_cmd|ct_srv_src|ct_srv_dst|ct_dst_ltm|ct_src_ltm|ct_src_dport_ltm|ct_dst_sport_ltm|ct_dst_src_ltm|attack_cat|label|service|\n",
      "+-------------+-----+-------------+------+-----+-----+---------+------+------+----+----+-----+-----+------------+-----------+-----+-----+----+----+----------+---------+-------+-------+-----------+-----------+---------+---------+----------+----------+---------+---------+-------+-------+-------+---------------+------------+----------------+------------+----------+----------+----------+----------+----------+----------------+----------------+--------------+----------+-----+-------+\n",
      "|  10.40.85.30|    0|   10.40.85.1|     0|  arp|  CON|30.983423|   184|   112|   0|   0|  0.0|  0.0|   35.631958|  21.689016|    4|    4|   0|   0|         0|        0|     46|     28|          0|          0|15491.214|15491.223|1424220107|1424220138|15491.229|15491.228|    0.0|    0.0|    0.0|              0|           0|               0|           0|         0|         1|         1|         1|         1|               1|               1|             1|    Normal|    0|    0.0|\n",
      "|  10.40.170.2|    0|  10.40.170.2|     0|  arp|  INT|      0.0|    46|     0|   0|   0|  0.0|  0.0|         0.0|        0.0|    1|    0|   0|   0|         0|        0|     46|      0|          0|          0|      0.0|      0.0|1424232371|1424232371| 60000.72|      0.0|    0.0|    0.0|    0.0|              1|           2|               0|           0|         0|         1|         1|         1|         1|               1|               1|             1|    Normal|    0|    0.0|\n",
      "|  10.40.182.1|    0|  10.40.182.3|     0|  arp|  CON| 36.13356|    56|    92|   0|   0|  0.0|  0.0|    6.199223|  10.184438|    2|    2|   0|   0|         0|        0|     28|     46|          0|          0| 12.02207|      0.0|1424234476|1424234512|36132.543|36132.535|    0.0|    0.0|    0.0|              0|           0|               0|           0|         0|         1|         1|         1|         1|               1|               1|             1|    Normal|    0|    0.0|\n",
      "|  10.40.170.2|    0|  10.40.170.2|     0|  arp|  INT|      0.0|    46|     0|   0|   0|  0.0|  0.0|         0.0|        0.0|    1|    0|   0|   0|         0|        0|     46|      0|          0|          0|10.954516|      0.0|1424238731|1424238731|60000.707|      0.0|    0.0|    0.0|    0.0|              1|           2|               0|           0|         0|         1|         1|         1|         1|               1|               1|             1|    Normal|    0|    0.0|\n",
      "|  10.40.170.2|    0|  10.40.170.2|     0|  arp|  INT|      0.0|    46|     0|   0|   0|  0.0|  0.0|         0.0|        0.0|    1|    0|   0|   0|         0|        0|     46|      0|          0|          0|      0.0|      0.0|1424244011|1424244011|60000.695|      0.0|    0.0|    0.0|    0.0|              1|           2|               0|           0|         0|         1|         1|         1|         1|               1|               1|             1|    Normal|    0|    0.0|\n",
      "|  10.40.182.1|    0|    224.0.0.5|     0| ospf|  REQ|50.004368|   384|     0|   1|   0|  0.0|  0.0|   51.195526|        0.0|    6|    0|   0|   0|         0|        0|     64|      0|          0|          0|      0.0|      0.0|1424222072|1424222122|10000.856|      0.0|    0.0|    0.0|    0.0|              0|           0|               0|           0|         0|         1|         2|         2|         1|               1|               2|             1|    Normal|    0|    0.0|\n",
      "|   10.40.85.1|    0|    224.0.0.5|     0| ospf|  REQ|50.004387|   384|     0|   1|   0|  0.0|  0.0|   51.195507|        0.0|    6|    0|   0|   0|         0|        0|     64|      0|          0|          0| 4.084081|      0.0|1424226402|1424226452|10000.879|      0.0|    0.0|    0.0|    0.0|              0|           0|               0|           0|         0|         1|         2|         2|         1|               1|               2|             1|    Normal|    0|    0.0|\n",
      "|149.171.126.9|   53|   59.166.0.9| 44578|  udp|  INT|   3.0E-6|   178|     0|  29|   0|  0.0|  0.0|2.37333328E8|        0.0|    2|    0|   0|   0|         0|        0|     89|      0|          0|          0|      0.0|      0.0|1421971989|1421971989|    0.003|      0.0|    0.0|    0.0|    0.0|              0|           0|               0|           0|         0|         1|         1|         1|         1|               1|               1|             1|    Normal|    0|    0.0|\n",
      "|   59.166.0.9|36370|149.171.126.1| 17155|  tcp|  FIN| 0.012851|  2646| 24666|  31|  29|  7.0| 15.0|   1607968.2|1.5006459E7|   42|   44| 255| 255| 446772879|580675543|     63|    561|          0|          0|17.682407|16.971146|1421970283|1421970283| 0.305707| 0.284674|7.38E-4|5.99E-4|1.39E-4|              0|           0|               0|           0|         0|         8|        14|         3|         4|               1|               1|             1|    Normal|    0|    0.0|\n",
      "|   59.166.0.3| 3451|149.171.126.8| 47468|  tcp|  FIN| 0.012927|  2646| 24666|  31|  29|  7.0| 15.0|   1598514.6|1.4918233E7|   42|   44| 255| 255|1119289550|580675543|     63|    561|          0|          0| 17.42088|17.052643|1421970288|1421970288|  0.30761| 0.286721|7.27E-4|5.87E-4| 1.4E-4|              0|           0|               0|           0|         0|         4|         5|         3|         2|               1|               1|             1|    Normal|    0|    0.0|\n",
      "+-------------+-----+-------------+------+-----+-----+---------+------+------+----+----+-----+-----+------------+-----------+-----+-----+----+----+----------+---------+-------+-------+-----------+-----------+---------+---------+----------+----------+---------+---------+-------+-------+-------+---------------+------------+----------------+------------+----------+----------+----------+----------+----------+----------------+----------------+--------------+----------+-----+-------+\n",
      "only showing top 10 rows\n",
      "\n"
     ]
    }
   ],
   "source": [
    "dataset1.show(10)"
   ]
  },
  {
   "cell_type": "code",
   "execution_count": null,
   "metadata": {
    "colab": {
     "base_uri": "https://localhost:8080/"
    },
    "id": "MJzq3Go3qQvJ",
    "outputId": "bf719838-1578-4440-d947-95b89f19aba6"
   },
   "outputs": [
    {
     "name": "stdout",
     "output_type": "stream",
     "text": [
      "+----------+-----+-------------+------+-----+-----+--------+------+------+----+----+-----+-----+-----------+---------+-----+-----+----+----+----------+----------+-------+-------+-----------+-----------+---------+---------+----------+----------+---------+---------+-------+--------+-------+---------------+------------+----------------+------------+----------+----------+----------+----------+----------+----------------+----------------+--------------+----------+-----+-------+\n",
      "|     srcip|sport|        dstip|dsport|proto|State|     dur|sbytes|dbytes|sttl|dttl|sloss|dloss|      sload|    dload|spkts|dpkts|swin|dwin|     stcpb|     dtcpb|smeansz|dmeansz|trans_depth|res_bdy_len|     sjit|     djit|     stime|     ltime|  sintpkt|  dintpkt| tcprtt|  synack| ackdat|is_sm_ips_ports|ct_state_ttl|ct_flw_http_mthd|is_ftp_login|ct_ftp_cmd|ct_srv_src|ct_srv_dst|ct_dst_ltm|ct_src_ltm|ct_src_dport_ltm|ct_dst_sport_ltm|ct_dst_src_ltm|attack_cat|label|service|\n",
      "+----------+-----+-------------+------+-----+-----+--------+------+------+----+----+-----+-----+-----------+---------+-----+-----+----+----+----------+----------+-------+-------+-----------+-----------+---------+---------+----------+----------+---------+---------+-------+--------+-------+---------------+------------+----------------+------------+----------+----------+----------+----------+----------+----------------+----------------+--------------+----------+-----+-------+\n",
      "|59.166.0.5| 3885|149.171.126.6|    53|  udp|  CON|0.001068|   130|   162|  31|  29|  0.0|  0.0|   486891.4|606741.56|    2|    2|   0|   0|         0|         0|     65|     81|          0|          0|      0.0|      0.0|1421970811|1421970811|     0.01|    0.008|    0.0|     0.0|    0.0|              0|           0|               0|           0|         0|         3|         4|         3|         5|               1|               1|             2|    Normal|    0|    0.0|\n",
      "|59.166.0.3|35611|149.171.126.7|    80|  tcp|  FIN|1.004871|  1580| 10168|  31|  29|  3.0|  5.0|  11535.809| 76459.56|   12|   18| 255| 255| 581047475|1905454628|    132|    565|          1|       3924| 9529.008|7676.1543|1421970325|1421970326| 91.32101|59.079765|6.52E-4| 5.11E-4|1.41E-4|              0|           0|               1|           0|         0|         1|         2|         2|         1|               1|               1|             1|    Normal|    0|    1.0|\n",
      "|59.166.0.2| 2300|149.171.126.3|    22|  tcp|  FIN|0.395805|  3728|  5474|  31|  29|  7.0|  7.0|   73005.65|106032.01|   32|   24| 255| 255| 647035785| 647381174|    117|    228|          0|          0|  792.972|23.497915|1421970341|1421970341|12.767903|17.173435|8.25E-4| 6.75E-4| 1.5E-4|              0|           0|               0|           0|         0|         1|         2|         2|         6|               1|               1|             1|    Normal|    0|    4.0|\n",
      "|59.166.0.5|19899|149.171.126.1|    25|  tcp|  FIN|0.021131| 37136|  3276|  31|  29| 18.0|  8.0|1.3789031E7|1209597.2|   52|   40| 255| 255| 581047475|1333105804|    714|     82|          0|          0|22.718483| 1.030547|1421970349|1421970349| 0.407549| 0.528077|6.65E-4| 5.32E-4|1.33E-4|              0|           0|               0|           0|         0|         1|         1|         3|         2|               1|               1|             1|    Normal|    0|    3.0|\n",
      "|59.166.0.6|33085|149.171.126.4| 25683|  tcp|  FIN|0.246103|   424|  8824|  31|  29|  1.0|  4.0|  12059.991| 262946.8|    8|   12| 255| 255|2045836247| 580675543|     53|    735|          0|          0|2323.5195|1842.2178|1421971722|1421971722| 35.11114|22.323818| 6.9E-4| 5.38E-4|1.52E-4|              0|           0|               0|           0|         0|         6|         3|         6|         4|               1|               1|             2|    Normal|    0|    2.0|\n",
      "|59.166.0.3|27480|149.171.126.1|    22|  tcp|  FIN|0.013736|  5928|  8010|  31|  29| 14.0| 17.0|  3397204.2|4584740.5|   62|   58| 255| 255| 798348729| 798657242|     96|    138|          0|          0|13.958445|      0.0|1421971723|1421971723|  0.22518| 0.218719|0.00126|0.001129|1.31E-4|              0|           0|               0|           0|         0|         2|         1|         3|         1|               1|               1|             1|    Normal|    0|    4.0|\n",
      "|59.166.0.2|56915|149.171.126.6|    80|  tcp|  FIN|1.081105|  1580| 10168|  31|  29|  3.0|  5.0|  10722.363| 71068.03|   12|   18| 255| 255|1633578086|1634605024|    132|    565|          1|       3924|10103.894| 8137.028|1421971774|1421971775| 98.24891|63.561707|6.66E-4| 5.52E-4|1.14E-4|              0|           0|               1|           0|         0|         3|         2|         3|         2|               1|               1|             1|    Normal|    0|    1.0|\n",
      "|59.166.0.7|58048|149.171.126.3|  1033|  tcp|  FIN|0.092305|  8928|   424|  31|  29|  4.0|  1.0|   718574.3|32154.271|   14|    8| 255| 255|2073225639| 996779928|    638|     53|          0|          0|787.39954| 31.86431|1421972245|1421972246| 7.100385|13.068143|6.44E-4| 5.02E-4|1.42E-4|              0|           0|               0|           0|         0|         1|         1|         5|         2|               1|               1|             2|    Normal|    0|    2.0|\n",
      "|59.166.0.4|52909|149.171.126.5|    25|  tcp|  FIN|0.412828| 37320|  3172|  31|  29| 18.0|  8.0|   709312.4| 59860.28|   52|   38| 255| 255|1110867034|1111872094|    718|     83|          0|          0| 901.9617|39.752792|1421971727|1421971727| 8.087882|11.143595|6.49E-4| 5.09E-4| 1.4E-4|              0|           0|               0|           0|         0|         1|         2|         4|        10|               1|               1|             1|    Normal|    0|    3.0|\n",
      "|59.166.0.4|59960|149.171.126.6|    80|  tcp|  FIN| 1.00484|  1580| 10168|  31|  29|  3.0|  4.0|  11536.165| 76461.92|   12|   18| 255| 255| 581047475|1405678932|    132|    565|          1|          0| 9528.272|7674.2295|1421970353|1421970354| 91.31682|59.077232|6.58E-4| 5.23E-4|1.35E-4|              0|           0|               1|           0|         0|         1|         4|         1|         3|               1|               1|             1|    Normal|    0|    1.0|\n",
      "+----------+-----+-------------+------+-----+-----+--------+------+------+----+----+-----+-----+-----------+---------+-----+-----+----+----+----------+----------+-------+-------+-----------+-----------+---------+---------+----------+----------+---------+---------+-------+--------+-------+---------------+------------+----------------+------------+----------+----------+----------+----------+----------+----------------+----------------+--------------+----------+-----+-------+\n",
      "only showing top 10 rows\n",
      "\n"
     ]
    }
   ],
   "source": [
    "dataset2.show(10)"
   ]
  },
  {
   "cell_type": "code",
   "execution_count": null,
   "metadata": {
    "colab": {
     "base_uri": "https://localhost:8080/"
    },
    "id": "TLpKQMZpEtsP",
    "outputId": "bd90893f-88ad-49e5-e802-51f96dec63c4"
   },
   "outputs": [
    {
     "name": "stdout",
     "output_type": "stream",
     "text": [
      "+-------+------+\n",
      "|service| count|\n",
      "+-------+------+\n",
      "|    0.0|746678|\n",
      "|    1.0|253716|\n",
      "|    2.0|124920|\n",
      "|    3.0| 81171|\n",
      "|    4.0| 47540|\n",
      "|    5.0| 45147|\n",
      "|    6.0|  1493|\n",
      "|    7.0|697057|\n",
      "|    8.0| 18698|\n",
      "|    9.0|   643|\n",
      "|   10.0| 42020|\n",
      "|   11.0|    31|\n",
      "+-------+------+\n",
      "\n"
     ]
    }
   ],
   "source": [
    "# Combining two dataset for Binary Classification\n",
    "new_df = dataset1.union(dataset2)\n",
    "new_df.groupby('service').count().sort('service').show()"
   ]
  },
  {
   "cell_type": "code",
   "execution_count": null,
   "metadata": {
    "colab": {
     "base_uri": "https://localhost:8080/"
    },
    "id": "LO9lJtel4191",
    "outputId": "75af85e0-77d5-4790-d5c7-57105df94f61"
   },
   "outputs": [
    {
     "name": "stdout",
     "output_type": "stream",
     "text": [
      "+-------------+-----+-------------+------+-----+-----+---------+------+------+----+----+-----+-----+------------+-----------+-----+-----+----+----+----------+---------+-------+-------+-----------+-----------+---------+---------+----------+----------+---------+---------+-------+-------+-------+---------------+------------+----------------+------------+----------+----------+----------+----------+----------+----------------+----------------+--------------+----------+-----+-------+\n",
      "|        srcip|sport|        dstip|dsport|proto|State|      dur|sbytes|dbytes|sttl|dttl|sloss|dloss|       sload|      dload|spkts|dpkts|swin|dwin|     stcpb|    dtcpb|smeansz|dmeansz|trans_depth|res_bdy_len|     sjit|     djit|     stime|     ltime|  sintpkt|  dintpkt| tcprtt| synack| ackdat|is_sm_ips_ports|ct_state_ttl|ct_flw_http_mthd|is_ftp_login|ct_ftp_cmd|ct_srv_src|ct_srv_dst|ct_dst_ltm|ct_src_ltm|ct_src_dport_ltm|ct_dst_sport_ltm|ct_dst_src_ltm|attack_cat|label|service|\n",
      "+-------------+-----+-------------+------+-----+-----+---------+------+------+----+----+-----+-----+------------+-----------+-----+-----+----+----+----------+---------+-------+-------+-----------+-----------+---------+---------+----------+----------+---------+---------+-------+-------+-------+---------------+------------+----------------+------------+----------+----------+----------+----------+----------+----------------+----------------+--------------+----------+-----+-------+\n",
      "|  10.40.85.30|    0|   10.40.85.1|     0|  arp|  CON|30.983423|   184|   112|   0|   0|  0.0|  0.0|   35.631958|  21.689016|    4|    4|   0|   0|         0|        0|     46|     28|          0|          0|15491.214|15491.223|1424220107|1424220138|15491.229|15491.228|    0.0|    0.0|    0.0|              0|           0|               0|           0|         0|         1|         1|         1|         1|               1|               1|             1|    Normal|    0|    0.0|\n",
      "|  10.40.170.2|    0|  10.40.170.2|     0|  arp|  INT|      0.0|    46|     0|   0|   0|  0.0|  0.0|         0.0|        0.0|    1|    0|   0|   0|         0|        0|     46|      0|          0|          0|      0.0|      0.0|1424232371|1424232371| 60000.72|      0.0|    0.0|    0.0|    0.0|              1|           2|               0|           0|         0|         1|         1|         1|         1|               1|               1|             1|    Normal|    0|    0.0|\n",
      "|  10.40.182.1|    0|  10.40.182.3|     0|  arp|  CON| 36.13356|    56|    92|   0|   0|  0.0|  0.0|    6.199223|  10.184438|    2|    2|   0|   0|         0|        0|     28|     46|          0|          0| 12.02207|      0.0|1424234476|1424234512|36132.543|36132.535|    0.0|    0.0|    0.0|              0|           0|               0|           0|         0|         1|         1|         1|         1|               1|               1|             1|    Normal|    0|    0.0|\n",
      "|  10.40.170.2|    0|  10.40.170.2|     0|  arp|  INT|      0.0|    46|     0|   0|   0|  0.0|  0.0|         0.0|        0.0|    1|    0|   0|   0|         0|        0|     46|      0|          0|          0|10.954516|      0.0|1424238731|1424238731|60000.707|      0.0|    0.0|    0.0|    0.0|              1|           2|               0|           0|         0|         1|         1|         1|         1|               1|               1|             1|    Normal|    0|    0.0|\n",
      "|  10.40.170.2|    0|  10.40.170.2|     0|  arp|  INT|      0.0|    46|     0|   0|   0|  0.0|  0.0|         0.0|        0.0|    1|    0|   0|   0|         0|        0|     46|      0|          0|          0|      0.0|      0.0|1424244011|1424244011|60000.695|      0.0|    0.0|    0.0|    0.0|              1|           2|               0|           0|         0|         1|         1|         1|         1|               1|               1|             1|    Normal|    0|    0.0|\n",
      "|  10.40.182.1|    0|    224.0.0.5|     0| ospf|  REQ|50.004368|   384|     0|   1|   0|  0.0|  0.0|   51.195526|        0.0|    6|    0|   0|   0|         0|        0|     64|      0|          0|          0|      0.0|      0.0|1424222072|1424222122|10000.856|      0.0|    0.0|    0.0|    0.0|              0|           0|               0|           0|         0|         1|         2|         2|         1|               1|               2|             1|    Normal|    0|    0.0|\n",
      "|   10.40.85.1|    0|    224.0.0.5|     0| ospf|  REQ|50.004387|   384|     0|   1|   0|  0.0|  0.0|   51.195507|        0.0|    6|    0|   0|   0|         0|        0|     64|      0|          0|          0| 4.084081|      0.0|1424226402|1424226452|10000.879|      0.0|    0.0|    0.0|    0.0|              0|           0|               0|           0|         0|         1|         2|         2|         1|               1|               2|             1|    Normal|    0|    0.0|\n",
      "|149.171.126.9|   53|   59.166.0.9| 44578|  udp|  INT|   3.0E-6|   178|     0|  29|   0|  0.0|  0.0|2.37333328E8|        0.0|    2|    0|   0|   0|         0|        0|     89|      0|          0|          0|      0.0|      0.0|1421971989|1421971989|    0.003|      0.0|    0.0|    0.0|    0.0|              0|           0|               0|           0|         0|         1|         1|         1|         1|               1|               1|             1|    Normal|    0|    0.0|\n",
      "|   59.166.0.9|36370|149.171.126.1| 17155|  tcp|  FIN| 0.012851|  2646| 24666|  31|  29|  7.0| 15.0|   1607968.2|1.5006459E7|   42|   44| 255| 255| 446772879|580675543|     63|    561|          0|          0|17.682407|16.971146|1421970283|1421970283| 0.305707| 0.284674|7.38E-4|5.99E-4|1.39E-4|              0|           0|               0|           0|         0|         8|        14|         3|         4|               1|               1|             1|    Normal|    0|    0.0|\n",
      "|   59.166.0.3| 3451|149.171.126.8| 47468|  tcp|  FIN| 0.012927|  2646| 24666|  31|  29|  7.0| 15.0|   1598514.6|1.4918233E7|   42|   44| 255| 255|1119289550|580675543|     63|    561|          0|          0| 17.42088|17.052643|1421970288|1421970288|  0.30761| 0.286721|7.27E-4|5.87E-4| 1.4E-4|              0|           0|               0|           0|         0|         4|         5|         3|         2|               1|               1|             1|    Normal|    0|    0.0|\n",
      "+-------------+-----+-------------+------+-----+-----+---------+------+------+----+----+-----+-----+------------+-----------+-----+-----+----+----+----------+---------+-------+-------+-----------+-----------+---------+---------+----------+----------+---------+---------+-------+-------+-------+---------------+------------+----------------+------------+----------+----------+----------+----------+----------+----------------+----------------+--------------+----------+-----+-------+\n",
      "only showing top 10 rows\n",
      "\n"
     ]
    }
   ],
   "source": [
    "new_df.show(10)"
   ]
  },
  {
   "cell_type": "code",
   "execution_count": null,
   "metadata": {
    "id": "hllvtTtZ4cxB"
   },
   "outputs": [],
   "source": [
    "new_df.toPandas().to_csv('unsw_nb15_bc_dataset.csv')"
   ]
  },
  {
   "cell_type": "code",
   "execution_count": null,
   "metadata": {
    "id": "v8xSmrLSDua0"
   },
   "outputs": [],
   "source": []
  }
 ],
 "metadata": {
  "colab": {
   "provenance": []
  },
  "gpuClass": "standard",
  "kernelspec": {
   "display_name": "Python 3 (ipykernel)",
   "language": "python",
   "name": "python3"
  },
  "language_info": {
   "codemirror_mode": {
    "name": "ipython",
    "version": 3
   },
   "file_extension": ".py",
   "mimetype": "text/x-python",
   "name": "python",
   "nbconvert_exporter": "python",
   "pygments_lexer": "ipython3",
   "version": "3.9.12"
  }
 },
 "nbformat": 4,
 "nbformat_minor": 1
}
