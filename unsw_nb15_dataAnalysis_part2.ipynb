{
 "cells": [
  {
   "cell_type": "markdown",
   "metadata": {
    "id": "DH_3uAVLyMvE"
   },
   "source": [
    "**I. Data Preparation**"
   ]
  },
  {
   "cell_type": "code",
   "execution_count": 1,
   "metadata": {
    "colab": {
     "base_uri": "https://localhost:8080/"
    },
    "id": "7dUxTebMNjn-",
    "outputId": "3909ba92-0740-4c77-dc73-72da0a5be30c"
   },
   "outputs": [
    {
     "name": "stdout",
     "output_type": "stream",
     "text": [
      "Looking in indexes: https://pypi.org/simple, https://us-python.pkg.dev/colab-wheels/public/simple/\n",
      "Collecting pyspark\n",
      "  Downloading pyspark-3.3.1.tar.gz (281.4 MB)\n",
      "\u001b[K     |████████████████████████████████| 281.4 MB 43 kB/s \n",
      "\u001b[?25hCollecting py4j\n",
      "  Downloading py4j-0.10.9.7-py2.py3-none-any.whl (200 kB)\n",
      "\u001b[K     |████████████████████████████████| 200 kB 50.2 MB/s \n",
      "\u001b[?25h  Downloading py4j-0.10.9.5-py2.py3-none-any.whl (199 kB)\n",
      "\u001b[K     |████████████████████████████████| 199 kB 52.9 MB/s \n",
      "\u001b[?25hBuilding wheels for collected packages: pyspark\n",
      "  Building wheel for pyspark (setup.py) ... \u001b[?25l\u001b[?25hdone\n",
      "  Created wheel for pyspark: filename=pyspark-3.3.1-py2.py3-none-any.whl size=281845514 sha256=1c5a25c3b3c3c0470aafdf003ed8ab2e5ef91d751d4bba40330ab4703b6e22f9\n",
      "  Stored in directory: /root/.cache/pip/wheels/42/59/f5/79a5bf931714dcd201b26025347785f087370a10a3329a899c\n",
      "Successfully built pyspark\n",
      "Installing collected packages: py4j, pyspark\n",
      "Successfully installed py4j-0.10.9.5 pyspark-3.3.1\n"
     ]
    }
   ],
   "source": [
    "!pip install pyspark py4j"
   ]
  },
  {
   "cell_type": "code",
   "execution_count": 2,
   "metadata": {
    "id": "u6pz56fqNoDd"
   },
   "outputs": [],
   "source": [
    "from pyspark.sql import SparkSession\n",
    "from pyspark.sql.types import *\n",
    "import pyspark.sql.functions as fn"
   ]
  },
  {
   "cell_type": "code",
   "execution_count": 3,
   "metadata": {
    "id": "NV_jqwGWNqp7"
   },
   "outputs": [],
   "source": [
    "# Creating another spark instance\n",
    "spark2 = SparkSession.builder.master(\"local[*]\").appName(\"UNSW_NB15_Analysis\").getOrCreate()"
   ]
  },
  {
   "cell_type": "code",
   "execution_count": 4,
   "metadata": {
    "id": "p-ZHAvB0Nqmr"
   },
   "outputs": [],
   "source": [
    "df = spark2.read.format(\"csv\") \\\n",
    "      .option(\"header\", True) \\\n",
    "      .option(\"inferSchema\", True) \\\n",
    "      .load(\"/content/drive/MyDrive/UNSW_NB15_datasets/unsw_nb15_bc_dataset.csv\")"
   ]
  },
  {
   "cell_type": "code",
   "execution_count": 8,
   "metadata": {
    "colab": {
     "base_uri": "https://localhost:8080/"
    },
    "id": "8I9a0YZWNqjJ",
    "outputId": "c6bacda6-da80-416f-d878-2218cc571516"
   },
   "outputs": [
    {
     "name": "stdout",
     "output_type": "stream",
     "text": [
      "+---+-------------+-----+-------------+------+-----+-----+---------+------+------+----+----+-----+-----+-----------+-----------+-----+-----+----+----+----------+---------+-------+-------+-----------+-----------+---------+---------+----------+----------+---------+---------+-------+-------+-------+---------------+------------+----------------+------------+----------+----------+----------+----------+----------+----------------+----------------+--------------+----------+-----+-------+\n",
      "|_c0|        srcip|sport|        dstip|dsport|proto|State|      dur|sbytes|dbytes|sttl|dttl|sloss|dloss|      sload|      dload|spkts|dpkts|swin|dwin|     stcpb|    dtcpb|smeansz|dmeansz|trans_depth|res_bdy_len|     sjit|     djit|     stime|     ltime|  sintpkt|  dintpkt| tcprtt| synack| ackdat|is_sm_ips_ports|ct_state_ttl|ct_flw_http_mthd|is_ftp_login|ct_ftp_cmd|ct_srv_src|ct_srv_dst|ct_dst_ltm|ct_src_ltm|ct_src_dport_ltm|ct_dst_sport_ltm|ct_dst_src_ltm|attack_cat|label|service|\n",
      "+---+-------------+-----+-------------+------+-----+-----+---------+------+------+----+----+-----+-----+-----------+-----------+-----+-----+----+----+----------+---------+-------+-------+-----------+-----------+---------+---------+----------+----------+---------+---------+-------+-------+-------+---------------+------------+----------------+------------+----------+----------+----------+----------+----------+----------------+----------------+--------------+----------+-----+-------+\n",
      "|  0|  10.40.85.30|    0|   10.40.85.1|     0|  arp|  CON|30.983423|   184|   112|   0|   0|  0.0|  0.0|  35.631958|  21.689016|    4|    4|   0|   0|         0|        0|     46|     28|          0|          0|15491.214|15491.223|1424220107|1424220138|15491.229|15491.228|    0.0|    0.0|    0.0|              0|           0|               0|           0|         0|         1|         1|         1|         1|               1|               1|             1|    Normal|    0|    0.0|\n",
      "|  1|  10.40.170.2|    0|  10.40.170.2|     0|  arp|  INT|      0.0|    46|     0|   0|   0|  0.0|  0.0|        0.0|        0.0|    1|    0|   0|   0|         0|        0|     46|      0|          0|          0|      0.0|      0.0|1424232371|1424232371| 60000.72|      0.0|    0.0|    0.0|    0.0|              1|           2|               0|           0|         0|         1|         1|         1|         1|               1|               1|             1|    Normal|    0|    0.0|\n",
      "|  2|  10.40.182.1|    0|  10.40.182.3|     0|  arp|  CON| 36.13356|    56|    92|   0|   0|  0.0|  0.0|   6.199223|  10.184438|    2|    2|   0|   0|         0|        0|     28|     46|          0|          0| 12.02207|      0.0|1424234476|1424234512|36132.543|36132.535|    0.0|    0.0|    0.0|              0|           0|               0|           0|         0|         1|         1|         1|         1|               1|               1|             1|    Normal|    0|    0.0|\n",
      "|  3|  10.40.170.2|    0|  10.40.170.2|     0|  arp|  INT|      0.0|    46|     0|   0|   0|  0.0|  0.0|        0.0|        0.0|    1|    0|   0|   0|         0|        0|     46|      0|          0|          0|10.954516|      0.0|1424238731|1424238731|60000.707|      0.0|    0.0|    0.0|    0.0|              1|           2|               0|           0|         0|         1|         1|         1|         1|               1|               1|             1|    Normal|    0|    0.0|\n",
      "|  4|  10.40.170.2|    0|  10.40.170.2|     0|  arp|  INT|      0.0|    46|     0|   0|   0|  0.0|  0.0|        0.0|        0.0|    1|    0|   0|   0|         0|        0|     46|      0|          0|          0|      0.0|      0.0|1424244011|1424244011|60000.695|      0.0|    0.0|    0.0|    0.0|              1|           2|               0|           0|         0|         1|         1|         1|         1|               1|               1|             1|    Normal|    0|    0.0|\n",
      "|  5|  10.40.182.1|    0|    224.0.0.5|     0| ospf|  REQ|50.004368|   384|     0|   1|   0|  0.0|  0.0|  51.195526|        0.0|    6|    0|   0|   0|         0|        0|     64|      0|          0|          0|      0.0|      0.0|1424222072|1424222122|10000.856|      0.0|    0.0|    0.0|    0.0|              0|           0|               0|           0|         0|         1|         2|         2|         1|               1|               2|             1|    Normal|    0|    0.0|\n",
      "|  6|   10.40.85.1|    0|    224.0.0.5|     0| ospf|  REQ|50.004387|   384|     0|   1|   0|  0.0|  0.0|  51.195507|        0.0|    6|    0|   0|   0|         0|        0|     64|      0|          0|          0| 4.084081|      0.0|1424226402|1424226452|10000.879|      0.0|    0.0|    0.0|    0.0|              0|           0|               0|           0|         0|         1|         2|         2|         1|               1|               2|             1|    Normal|    0|    0.0|\n",
      "|  7|149.171.126.9|   53|   59.166.0.9| 44578|  udp|  INT|   3.0E-6|   178|     0|  29|   0|  0.0|  0.0|2.3733333E8|        0.0|    2|    0|   0|   0|         0|        0|     89|      0|          0|          0|      0.0|      0.0|1421971989|1421971989|    0.003|      0.0|    0.0|    0.0|    0.0|              0|           0|               0|           0|         0|         1|         1|         1|         1|               1|               1|             1|    Normal|    0|    7.0|\n",
      "|  8|   59.166.0.9|36370|149.171.126.1| 17155|  tcp|  FIN| 0.012851|  2646| 24666|  31|  29|  7.0| 15.0|  1607968.2|1.5006459E7|   42|   44| 255| 255| 446772879|580675543|     63|    561|          0|          0|17.682407|16.971146|1421970283|1421970283| 0.305707| 0.284674|7.38E-4|5.99E-4|1.39E-4|              0|           0|               0|           0|         0|         8|        14|         3|         4|               1|               1|             1|    Normal|    0|    7.0|\n",
      "|  9|   59.166.0.3| 3451|149.171.126.8| 47468|  tcp|  FIN| 0.012927|  2646| 24666|  31|  29|  7.0| 15.0|  1598514.6|1.4918233E7|   42|   44| 255| 255|1119289550|580675543|     63|    561|          0|          0| 17.42088|17.052643|1421970288|1421970288|  0.30761| 0.286721|7.27E-4|5.87E-4| 1.4E-4|              0|           0|               0|           0|         0|         4|         5|         3|         2|               1|               1|             1|    Normal|    0|    7.0|\n",
      "+---+-------------+-----+-------------+------+-----+-----+---------+------+------+----+----+-----+-----+-----------+-----------+-----+-----+----+----+----------+---------+-------+-------+-----------+-----------+---------+---------+----------+----------+---------+---------+-------+-------+-------+---------------+------------+----------------+------------+----------+----------+----------+----------+----------+----------------+----------------+--------------+----------+-----+-------+\n",
      "only showing top 10 rows\n",
      "\n"
     ]
    }
   ],
   "source": [
    "df.show(10)"
   ]
  },
  {
   "cell_type": "code",
   "execution_count": 9,
   "metadata": {
    "colab": {
     "base_uri": "https://localhost:8080/"
    },
    "id": "zuP-CDj1QlR7",
    "outputId": "37b0bfae-7257-435e-cfca-af7ab868790d"
   },
   "outputs": [
    {
     "name": "stdout",
     "output_type": "stream",
     "text": [
      "root\n",
      " |-- _c0: integer (nullable = true)\n",
      " |-- srcip: string (nullable = true)\n",
      " |-- sport: integer (nullable = true)\n",
      " |-- dstip: string (nullable = true)\n",
      " |-- dsport: integer (nullable = true)\n",
      " |-- proto: string (nullable = true)\n",
      " |-- State: string (nullable = true)\n",
      " |-- dur: double (nullable = true)\n",
      " |-- sbytes: integer (nullable = true)\n",
      " |-- dbytes: integer (nullable = true)\n",
      " |-- sttl: integer (nullable = true)\n",
      " |-- dttl: integer (nullable = true)\n",
      " |-- sloss: double (nullable = true)\n",
      " |-- dloss: double (nullable = true)\n",
      " |-- sload: double (nullable = true)\n",
      " |-- dload: double (nullable = true)\n",
      " |-- spkts: integer (nullable = true)\n",
      " |-- dpkts: integer (nullable = true)\n",
      " |-- swin: integer (nullable = true)\n",
      " |-- dwin: integer (nullable = true)\n",
      " |-- stcpb: integer (nullable = true)\n",
      " |-- dtcpb: integer (nullable = true)\n",
      " |-- smeansz: integer (nullable = true)\n",
      " |-- dmeansz: integer (nullable = true)\n",
      " |-- trans_depth: integer (nullable = true)\n",
      " |-- res_bdy_len: integer (nullable = true)\n",
      " |-- sjit: double (nullable = true)\n",
      " |-- djit: double (nullable = true)\n",
      " |-- stime: integer (nullable = true)\n",
      " |-- ltime: integer (nullable = true)\n",
      " |-- sintpkt: double (nullable = true)\n",
      " |-- dintpkt: double (nullable = true)\n",
      " |-- tcprtt: double (nullable = true)\n",
      " |-- synack: double (nullable = true)\n",
      " |-- ackdat: double (nullable = true)\n",
      " |-- is_sm_ips_ports: integer (nullable = true)\n",
      " |-- ct_state_ttl: integer (nullable = true)\n",
      " |-- ct_flw_http_mthd: integer (nullable = true)\n",
      " |-- is_ftp_login: integer (nullable = true)\n",
      " |-- ct_ftp_cmd: integer (nullable = true)\n",
      " |-- ct_srv_src: integer (nullable = true)\n",
      " |-- ct_srv_dst: integer (nullable = true)\n",
      " |-- ct_dst_ltm: integer (nullable = true)\n",
      " |-- ct_src_ltm: integer (nullable = true)\n",
      " |-- ct_src_dport_ltm: integer (nullable = true)\n",
      " |-- ct_dst_sport_ltm: integer (nullable = true)\n",
      " |-- ct_dst_src_ltm: integer (nullable = true)\n",
      " |-- attack_cat: string (nullable = true)\n",
      " |-- label: integer (nullable = true)\n",
      " |-- service: double (nullable = true)\n",
      "\n"
     ]
    }
   ],
   "source": [
    "df.printSchema()"
   ]
  },
  {
   "cell_type": "code",
   "execution_count": 10,
   "metadata": {
    "colab": {
     "base_uri": "https://localhost:8080/"
    },
    "id": "eTx9GHbrQlMY",
    "outputId": "1f922dec-c2be-452b-9d77-c97fc6e23a74"
   },
   "outputs": [
    {
     "name": "stdout",
     "output_type": "stream",
     "text": [
      "Count of rows: 2059114\n",
      "Count of distinct rows: 2059114\n"
     ]
    }
   ],
   "source": [
    "# Checking for duplicate rows\n",
    "print('Count of rows: {}'.format(df.count()))\n",
    "print('Count of distinct rows: {}'.format(df.distinct().count()))"
   ]
  },
  {
   "cell_type": "code",
   "execution_count": 12,
   "metadata": {
    "colab": {
     "base_uri": "https://localhost:8080/"
    },
    "id": "uiBSfWPJQlJA",
    "outputId": "90973e4d-e6bc-449c-c7ee-f7b91fc0edf8"
   },
   "outputs": [
    {
     "name": "stdout",
     "output_type": "stream",
     "text": [
      "+-----------+-------------+-------------+-------------+--------------+-------------+-------------+-----------+--------------+--------------+------------+------------+-------------+-------------+-------------+-------------+-------------+-------------+------------+------------+-------------+-------------+---------------+---------------+-------------------+-------------------+------------+------------+-------------+-------------+---------------+---------------+--------------+--------------+--------------+-----------------------+--------------------+------------------------+--------------------+------------------+------------------+------------------+------------------+------------------+------------------------+------------------------+----------------------+------------------+-------------+---------------+\n",
      "|_c0_missing|srcip_missing|sport_missing|dstip_missing|dsport_missing|proto_missing|State_missing|dur_missing|sbytes_missing|dbytes_missing|sttl_missing|dttl_missing|sloss_missing|dloss_missing|sload_missing|dload_missing|spkts_missing|dpkts_missing|swin_missing|dwin_missing|stcpb_missing|dtcpb_missing|smeansz_missing|dmeansz_missing|trans_depth_missing|res_bdy_len_missing|sjit_missing|djit_missing|stime_missing|ltime_missing|sintpkt_missing|dintpkt_missing|tcprtt_missing|synack_missing|ackdat_missing|is_sm_ips_ports_missing|ct_state_ttl_missing|ct_flw_http_mthd_missing|is_ftp_login_missing|ct_ftp_cmd_missing|ct_srv_src_missing|ct_srv_dst_missing|ct_dst_ltm_missing|ct_src_ltm_missing|ct_src_dport_ltm_missing|ct_dst_sport_ltm_missing|ct_dst_src_ltm_missing|attack_cat_missing|label_missing|service_missing|\n",
      "+-----------+-------------+-------------+-------------+--------------+-------------+-------------+-----------+--------------+--------------+------------+------------+-------------+-------------+-------------+-------------+-------------+-------------+------------+------------+-------------+-------------+---------------+---------------+-------------------+-------------------+------------+------------+-------------+-------------+---------------+---------------+--------------+--------------+--------------+-----------------------+--------------------+------------------------+--------------------+------------------+------------------+------------------+------------------+------------------+------------------------+------------------------+----------------------+------------------+-------------+---------------+\n",
      "|        0.0|          0.0|          0.0|          0.0|           0.0|          0.0|          0.0|        0.0|           0.0|           0.0|         0.0|         0.0|          0.0|          0.0|          0.0|          0.0|          0.0|          0.0|         0.0|         0.0|          0.0|          0.0|            0.0|            0.0|                0.0|                0.0|         0.0|         0.0|          0.0|          0.0|            0.0|            0.0|           0.0|           0.0|           0.0|                    0.0|                 0.0|                     0.0|                 0.0|               0.0|               0.0|               0.0|               0.0|               0.0|                     0.0|                     0.0|                   0.0|               0.0|          0.0|            0.0|\n",
      "+-----------+-------------+-------------+-------------+--------------+-------------+-------------+-----------+--------------+--------------+------------+------------+-------------+-------------+-------------+-------------+-------------+-------------+------------+------------+-------------+-------------+---------------+---------------+-------------------+-------------------+------------+------------+-------------+-------------+---------------+---------------+--------------+--------------+--------------+-----------------------+--------------------+------------------------+--------------------+------------------+------------------+------------------+------------------+------------------+------------------------+------------------------+----------------------+------------------+-------------+---------------+\n",
      "\n"
     ]
    }
   ],
   "source": [
    "# Count if there are missing value\n",
    "df.agg(*[(1 - (fn.count(c) / fn.count('*'))).alias(c + '_missing') for c in df.columns]).show()"
   ]
  },
  {
   "cell_type": "markdown",
   "metadata": {
    "id": "1n53cjle9NZS"
   },
   "source": [
    "*It appears that there are no more duplicate rows and missing values in the dataset.* \n"
   ]
  },
  {
   "cell_type": "markdown",
   "metadata": {
    "id": "LlIxAoAO3m2t"
   },
   "source": [
    "**II. Preprocessing**\n"
   ]
  },
  {
   "cell_type": "code",
   "execution_count": 5,
   "metadata": {
    "id": "KwyDhfGyQlGK"
   },
   "outputs": [],
   "source": [
    "import pyspark.ml.feature as ft\n",
    "import pyspark.ml.stat as st\n",
    "from pyspark.ml import Pipeline\n",
    "\n",
    "import matplotlib.pyplot as plt\n",
    "import pandas as pd\n",
    "import seaborn as sns"
   ]
  },
  {
   "cell_type": "code",
   "execution_count": 6,
   "metadata": {
    "id": "b6-_yV4Nc3Ig"
   },
   "outputs": [],
   "source": [
    "# Selecting relevant columns\n",
    "df = df.select([\"dur\", \"proto\", \"service\", \"state\", \"spkts\", \"dpkts\", \"sbytes\", \"dbytes\", \"sttl\", \"dttl\", \"sload\", \"dload\", \"sloss\", \"dloss\", \"swin\", \"dwin\", \"stcpb\", \"dtcpb\", \"smeansz\", \"dmeansz\", \"trans_depth\", \"res_bdy_len\", \"sjit\", \"djit\", \"sintpkt\", \"dintpkt\", \"tcprtt\", \"is_ftp_login\", \"attack_cat\", \"label\"])"
   ]
  },
  {
   "cell_type": "code",
   "execution_count": 7,
   "metadata": {
    "id": "DRVcq8dQQk_-"
   },
   "outputs": [],
   "source": [
    "# Extract string and numeric for indexing and encoding preparation except for label\n",
    "def split_str_numeric(df):\n",
    "  string_columns = [c[0] for c in df.dtypes if 'string' in c]\n",
    "  num_columns = [c[0] for c in df.dtypes if 'int' in c or 'float' in c and c[0] != 'label']\n",
    "  return [string_columns, num_columns]"
   ]
  },
  {
   "cell_type": "code",
   "execution_count": 8,
   "metadata": {
    "id": "zKR4QbmmQlCr"
   },
   "outputs": [],
   "source": [
    "# Method for string indexer and OneHotEncoding\n",
    "def features_encoding(string_columns,int_columns, df):\n",
    "  # for str type\n",
    "  indexers = [ft.StringIndexer(inputCol=c, outputCol=\"{0}_indexed\".format(c)) for c in string_columns]\n",
    "\n",
    "  encoders = [ft.StringIndexer(inputCol = indexer.getOutputCol(), outputCol = \"{0}_encoded\".format(indexer.getOutputCol()))\n",
    "  for indexer in indexers]\n",
    "\n",
    "  assemblerStr = ft.VectorAssembler(inputCols = [encoder.getOutputCol() for encoder in encoders], outputCol = \"str\")\n",
    "\n",
    "  pipelineStr = Pipeline(stages = indexers + encoders + [assemblerStr])\n",
    "  df = pipelineStr.fit(df).transform(df)\n",
    "\n",
    "  # For numeric type\n",
    "  assemblerInt = ft.VectorAssembler(inputCols = int_columns, outputCol = \"num\")\n",
    "\n",
    "  pipelineInt = Pipeline(stages = [assemblerInt])\n",
    "  df = pipelineInt.fit(df).transform(df)\n",
    "\n",
    "  assembler = ft.VectorAssembler(inputCols = [\"str\", \"num\"], outputCol = \"features\")\n",
    "\n",
    "  pipeline = Pipeline(stages = [assembler])\n",
    "  encoded_df = pipeline.fit(df).transform(df)\n",
    "  return encoded_df"
   ]
  },
  {
   "cell_type": "code",
   "execution_count": 9,
   "metadata": {
    "id": "8Sufo2wTQk88"
   },
   "outputs": [],
   "source": [
    "# execute split function to separate type of columns\n",
    "str_col, num_col = split_str_numeric(df)\n",
    "\n",
    "# Extract features column name\n",
    "all_features_name = str_col + num_col\n",
    "\n",
    "# For indexing and one hot encoding\n",
    "encoded_df = features_encoding(str_col, num_col, df)"
   ]
  },
  {
   "cell_type": "markdown",
   "metadata": {
    "id": "j3dT1r9x4EIG"
   },
   "source": [
    "**III. Getting the correlation for features selection**\n"
   ]
  },
  {
   "cell_type": "code",
   "execution_count": 10,
   "metadata": {
    "colab": {
     "base_uri": "https://localhost:8080/"
    },
    "id": "gLR3BfU9TQdi",
    "outputId": "adc3a6fd-5e51-4852-a5d7-36bfdeac5cbe"
   },
   "outputs": [
    {
     "name": "stdout",
     "output_type": "stream",
     "text": [
      "+--------------------+--------------------+--------------------+--------------------+--------------------+--------------------+--------------------+--------------------+--------------------+--------------------+--------------------+--------------------+--------------------+--------------------+--------------------+--------------------+--------------------+--------------------+--------------------+\n",
      "|               proto|               state|          attack_cat|               spkts|               dpkts|              sbytes|              dbytes|                sttl|                dttl|                swin|                dwin|               stcpb|               dtcpb|             smeansz|             dmeansz|         trans_depth|         res_bdy_len|        is_ftp_login|               label|\n",
      "+--------------------+--------------------+--------------------+--------------------+--------------------+--------------------+--------------------+--------------------+--------------------+--------------------+--------------------+--------------------+--------------------+--------------------+--------------------+--------------------+--------------------+--------------------+--------------------+\n",
      "|                 1.0| 0.24452588717143706|  0.2710754749352674|-0.05443189629977...|-0.04628479606869182|-0.00932319199839...|-0.02993913454917...| 0.20808065874502937|-0.06024630038699...|-0.18739812574423598|-0.18674250608872772|-0.12479945248832269|-0.12474585556695976|-0.02280213801069...|-0.10279287463893125|-0.03172546002663165|-0.01198061795300...|-0.01687654715891...|    0.22049377529433|\n",
      "| 0.24452588717143706|                 1.0| 0.20903773330359032|-0.26110237964102423|-0.22228447151822361|-0.03893632207077...|-0.14482264945978296|  0.2969700620331376|-0.18263490208676172| -0.8920007544070038| -0.9036103036651285| -0.6032000716631983| -0.6036584864877304|-0.10121195474798614| -0.4682934281375536|  -0.155765039330274|-0.05777641814493179|-0.08305692620003788| 0.22153018594180676|\n",
      "|  0.2710754749352674| 0.20903773330359032|                 1.0| -0.0485149054351598|-0.05130467999421427| 0.01862342625937214|-0.03309773058491292|  0.6782947264676028|   0.367607984469962|-0.08263894055937081|-0.08194384232712704|-0.05515451813403363|-0.05535070213331573| 0.02928937926925645| -0.1395043113463981| 0.01503434716941256|-0.01014701343047...|-0.01870608530116...|  0.8024953601677903|\n",
      "|-0.05443189629977...|-0.26110237964102423| -0.0485149054351598|                 1.0|  0.8088376810832908|  0.6200099760754556|  0.7141664107507409|-0.07731511512727848| -0.0083921827055647| 0.28984643424106143|  0.2908405062694473| 0.19392528544848248| 0.19407116771612118|0.005457295082233634|  0.4915539339001285|0.025839992547635655| 0.35095146526335574| 0.02108821066163608|-0.04532627071770323|\n",
      "|-0.04628479606869182|-0.22228447151822361|-0.05130467999421427|  0.8088376810832908|                 1.0| 0.10598679467494576|  0.9717515061614819|-0.08422497592865111| -0.0295249819375538|  0.2422566303620157| 0.24316014452621088|  0.1625898674594491|  0.1628843614779653| -0.0866707198772843|  0.5897863946756418| 0.08259287249063389|  0.5228048613400408|0.003220912929662917|-0.05744272549307365|\n",
      "|-0.00932319199839...|-0.03893632207077...| 0.01862342625937214|  0.6200099760754556| 0.10598679467494576|                 1.0| 0.04214292756973951|0.015504563002414071|0.060834996032247256| 0.05004136146626181| 0.05021651850294879| 0.03265268748167299|0.032830729649444904|  0.1857464719217476|0.003360063350746113|-0.00249778995681...|0.019445500478243626|-0.00486581493911...|  0.0456815469466147|\n",
      "|-0.02993913454917...|-0.14482264945978296|-0.03309773058491292|  0.7141664107507409|  0.9717515061614819| 0.04214292756973951|                 1.0|-0.05799326000597...|-0.02208578747712...|   0.159479887389167| 0.16004255235873227| 0.10710268631196664| 0.10741156526641175|-0.10286690711314601|  0.5949335304215044| 0.11576169098630582|  0.5853472676322085|-0.03126474015579772|-0.03740372377963061|\n",
      "| 0.20808065874502937|  0.2969700620331376|  0.6782947264676028|-0.07731511512727848|-0.08422497592865111|0.015504563002414071|-0.05799326000597...|                 1.0|  0.5067339727810011|-0.08986775074199765|-0.10093189824177362|-0.06782903099127313|-0.06794627274693063| 0.06215692699702087|-0.21163900127220625|-0.00110490881258...|-0.02252032163014...|-0.02683684519220634|  0.7659793823522283|\n",
      "|-0.06024630038699...|-0.18263490208676172|   0.367607984469962| -0.0083921827055647| -0.0295249819375538|0.060834996032247256|-0.02208578747712...|  0.5067339727810011|                 1.0| 0.16868433758630122| 0.17089434882377838| 0.11366909374381297| 0.11385201711915316| 0.08120146224756675|-0.07635173864384757|  0.0918486027395111|-0.00431732826207...|-0.00122687136029...|   0.522138723721167|\n",
      "|-0.18739812574423598| -0.8920007544070038|-0.08263894055937081| 0.28984643424106143|  0.2422566303620157| 0.05004136146626181|   0.159479887389167|-0.08986775074199765| 0.16868433758630122|                 1.0|   0.996472996286046|  0.6659070661645936|  0.6656533525183881|  0.1281747793639064|   0.492061157250512| 0.16929423703408708| 0.06392170445110486| 0.09005857152411889|-0.07886551484709924|\n",
      "+--------------------+--------------------+--------------------+--------------------+--------------------+--------------------+--------------------+--------------------+--------------------+--------------------+--------------------+--------------------+--------------------+--------------------+--------------------+--------------------+--------------------+--------------------+--------------------+\n",
      "only showing top 10 rows\n",
      "\n"
     ]
    }
   ],
   "source": [
    "# Convert feature matrix into dataframe\n",
    "matrix = st.Correlation.corr(encoded_df, \"features\").collect()[0][0]\n",
    "corrMatrix = matrix.toArray().tolist()\n",
    "df_corr = spark2.createDataFrame(corrMatrix,all_features_name)\n",
    "df_corr.show(10)"
   ]
  },
  {
   "cell_type": "code",
   "execution_count": 11,
   "metadata": {
    "colab": {
     "base_uri": "https://localhost:8080/",
     "height": 585
    },
    "id": "xaBHtwKbTQZC",
    "outputId": "f92baee1-baed-4477-e484-f2afc76a8ab7"
   },
   "outputs": [
    {
     "data": {
      "image/png": "[encoded data removed]",
      "text/plain": [
       "<Figure size 864x576 with 2 Axes>"
      ]
     },
     "metadata": {
      "needs_background": "light"
     },
     "output_type": "display_data"
    }
   ],
   "source": [
    "# Plotting the selected columns\n",
    "%matplotlib inline\n",
    "corr_plot = df_corr.toPandas()\n",
    "fig, axes = plt.subplots(figsize=(12,8))\n",
    "ax = plt.axes()\n",
    "ax = sns.heatmap(corr_plot,cmap='coolwarm',linecolor='white',linewidths=1)\n",
    "ax.set_yticklabels(\n",
    "    ax.get_xticklabels(),\n",
    "    rotation=360,\n",
    "    horizontalalignment='right'\n",
    ");\n",
    "plt.tight_layout()"
   ]
  },
  {
   "cell_type": "code",
   "execution_count": 20,
   "metadata": {
    "colab": {
     "base_uri": "https://localhost:8080/"
    },
    "id": "6UMO_PHUTQVR",
    "outputId": "ef2d45aa-d18e-4cae-f8b6-3dbfcebb02cf"
   },
   "outputs": [
    {
     "name": "stdout",
     "output_type": "stream",
     "text": [
      "proto :  0.22049377529482903\n",
      "state :  0.22153018594209306\n",
      "attack_cat :  0.8024953601711636\n",
      "sbytes :  0.04568154694688885\n",
      "sttl :  0.7659793823626289\n",
      "dttl :  0.5221387237277988\n",
      "smeansz :  0.05692127326768381\n",
      "trans_depth :  0.04645208078442254\n"
     ]
    }
   ],
   "source": [
    "for i, row in enumerate(corr_plot[\"label\"]):\n",
    "  if row > 0 and row < 1:\n",
    "    print(all_features_name[i], \": \",row)"
   ]
  },
  {
   "cell_type": "code",
   "execution_count": 12,
   "metadata": {
    "colab": {
     "base_uri": "https://localhost:8080/"
    },
    "id": "hBu9xduLTQSU",
    "outputId": "8e56d795-c7b2-4d6b-b7af-b870060d40ed"
   },
   "outputs": [
    {
     "name": "stdout",
     "output_type": "stream",
     "text": [
      "['proto', 'state', 'attack_cat', 'sbytes', 'sttl', 'dttl', 'smeansz', 'trans_depth']\n"
     ]
    }
   ],
   "source": [
    "# Extracting the eight positive correlated features\n",
    "bc_columns = [all_features_name[i] for i, row in enumerate(corr_plot[\"label\"]) if row > 0 and row <1]\n",
    "print(bc_columns)"
   ]
  },
  {
   "cell_type": "code",
   "execution_count": 14,
   "metadata": {
    "colab": {
     "base_uri": "https://localhost:8080/"
    },
    "id": "0sBF8DPxTQPQ",
    "outputId": "1037275d-87c8-49c8-f025-ce2fb11098f7"
   },
   "outputs": [
    {
     "name": "stdout",
     "output_type": "stream",
     "text": [
      "+-----+-----+----------+------+----+----+-------+-----------+-----+\n",
      "|proto|state|attack_cat|sbytes|sttl|dttl|smeansz|trans_depth|label|\n",
      "+-----+-----+----------+------+----+----+-------+-----------+-----+\n",
      "|  arp|  CON|    Normal|   184|   0|   0|     46|          0|    0|\n",
      "|  arp|  INT|    Normal|    46|   0|   0|     46|          0|    0|\n",
      "|  arp|  CON|    Normal|    56|   0|   0|     28|          0|    0|\n",
      "|  arp|  INT|    Normal|    46|   0|   0|     46|          0|    0|\n",
      "|  arp|  INT|    Normal|    46|   0|   0|     46|          0|    0|\n",
      "| ospf|  REQ|    Normal|   384|   1|   0|     64|          0|    0|\n",
      "| ospf|  REQ|    Normal|   384|   1|   0|     64|          0|    0|\n",
      "|  udp|  INT|    Normal|   178|  29|   0|     89|          0|    0|\n",
      "|  tcp|  FIN|    Normal|  2646|  31|  29|     63|          0|    0|\n",
      "|  tcp|  FIN|    Normal|  2646|  31|  29|     63|          0|    0|\n",
      "+-----+-----+----------+------+----+----+-------+-----------+-----+\n",
      "only showing top 10 rows\n",
      "\n"
     ]
    }
   ],
   "source": [
    "bc_df = df.select(bc_columns + [\"label\"])\n",
    "bc_df.show(10)"
   ]
  },
  {
   "cell_type": "code",
   "execution_count": 15,
   "metadata": {
    "colab": {
     "base_uri": "https://localhost:8080/"
    },
    "id": "xG7Tj1FuTQMa",
    "outputId": "8eebcf59-518d-47ff-acf5-c9b13702dc3d"
   },
   "outputs": [
    {
     "name": "stdout",
     "output_type": "stream",
     "text": [
      "+-----+-----+----------+------+----+----+-------+-----------+-----+-------------+-------------+------------------+---------------------+---------------------+--------------------------+-------------+--------------------+--------------------+\n",
      "|proto|state|attack_cat|sbytes|sttl|dttl|smeansz|trans_depth|label|proto_indexed|state_indexed|attack_cat_indexed|proto_indexed_encoded|state_indexed_encoded|attack_cat_indexed_encoded|          str|                 num|            features|\n",
      "+-----+-----+----------+------+----+----+-------+-----------+-----+-------------+-------------+------------------+---------------------+---------------------+--------------------------+-------------+--------------------+--------------------+\n",
      "|  arp|  CON|    Normal|   184|   0|   0|     46|          0|    0|          2.0|          1.0|               0.0|                  2.0|                  1.0|                       0.0|[2.0,1.0,0.0]|(6,[0,3],[184.0,4...|(9,[0,1,3,6],[2.0...|\n",
      "|  arp|  INT|    Normal|    46|   0|   0|     46|          0|    0|          2.0|          2.0|               0.0|                  2.0|                  2.0|                       0.0|[2.0,2.0,0.0]|(6,[0,3],[46.0,46...|(9,[0,1,3,6],[2.0...|\n",
      "|  arp|  CON|    Normal|    56|   0|   0|     28|          0|    0|          2.0|          1.0|               0.0|                  2.0|                  1.0|                       0.0|[2.0,1.0,0.0]|(6,[0,3],[56.0,28...|(9,[0,1,3,6],[2.0...|\n",
      "|  arp|  INT|    Normal|    46|   0|   0|     46|          0|    0|          2.0|          2.0|               0.0|                  2.0|                  2.0|                       0.0|[2.0,2.0,0.0]|(6,[0,3],[46.0,46...|(9,[0,1,3,6],[2.0...|\n",
      "|  arp|  INT|    Normal|    46|   0|   0|     46|          0|    0|          2.0|          2.0|               0.0|                  2.0|                  2.0|                       0.0|[2.0,2.0,0.0]|(6,[0,3],[46.0,46...|(9,[0,1,3,6],[2.0...|\n",
      "| ospf|  REQ|    Normal|   384|   1|   0|     64|          0|    0|          4.0|          3.0|               0.0|                  4.0|                  3.0|                       0.0|[4.0,3.0,0.0]|[384.0,1.0,0.0,64...|[4.0,3.0,0.0,384....|\n",
      "| ospf|  REQ|    Normal|   384|   1|   0|     64|          0|    0|          4.0|          3.0|               0.0|                  4.0|                  3.0|                       0.0|[4.0,3.0,0.0]|[384.0,1.0,0.0,64...|[4.0,3.0,0.0,384....|\n",
      "|  udp|  INT|    Normal|   178|  29|   0|     89|          0|    0|          1.0|          2.0|               0.0|                  1.0|                  2.0|                       0.0|[1.0,2.0,0.0]|[178.0,29.0,0.0,8...|[1.0,2.0,0.0,178....|\n",
      "|  tcp|  FIN|    Normal|  2646|  31|  29|     63|          0|    0|          0.0|          0.0|               0.0|                  0.0|                  0.0|                       0.0|    (3,[],[])|[2646.0,31.0,29.0...|(9,[3,4,5,6],[264...|\n",
      "|  tcp|  FIN|    Normal|  2646|  31|  29|     63|          0|    0|          0.0|          0.0|               0.0|                  0.0|                  0.0|                       0.0|    (3,[],[])|[2646.0,31.0,29.0...|(9,[3,4,5,6],[264...|\n",
      "+-----+-----+----------+------+----+----+-------+-----------+-----+-------------+-------------+------------------+---------------------+---------------------+--------------------------+-------------+--------------------+--------------------+\n",
      "only showing top 10 rows\n",
      "\n"
     ]
    }
   ],
   "source": [
    "# Performing indexing and one hot encoding for correlated features to prepare for classification training\n",
    "str_col, num_col = split_str_numeric(bc_df)\n",
    "encoded_bc_df = features_encoding(str_col, num_col, bc_df)\n",
    "encoded_bc_df.show(10)"
   ]
  },
  {
   "cell_type": "markdown",
   "metadata": {
    "id": "CSO4yzKu5FDC"
   },
   "source": [
    "**IV. Training and fitting the Model**"
   ]
  },
  {
   "cell_type": "code",
   "execution_count": 16,
   "metadata": {
    "id": "Ve2z2FY8TQJq"
   },
   "outputs": [],
   "source": [
    "# Importing ML libraries\n",
    "import pyspark.ml.classification as cl\n",
    "from pyspark.ml.tuning import ParamGridBuilder, CrossValidator\n",
    "from pyspark.ml.evaluation import BinaryClassificationEvaluator\n",
    "from pyspark.mllib.evaluation import BinaryClassificationMetrics"
   ]
  },
  {
   "cell_type": "code",
   "execution_count": 25,
   "metadata": {
    "id": "4rq3jtMBTQGz"
   },
   "outputs": [],
   "source": [
    "# Splitting the data\n",
    "df_train, df_test = encoded_bc_df.randomSplit([0.7,0.3], seed=88)"
   ]
  },
  {
   "cell_type": "code",
   "execution_count": 26,
   "metadata": {
    "id": "dPrKB8fFYVIM"
   },
   "outputs": [],
   "source": [
    "# Using Logistic Regresion\n",
    "lr = cl.LogisticRegression(\n",
    "    maxIter=10,\n",
    "    regParam=0.01,\n",
    "    labelCol=\"label\"\n",
    ")"
   ]
  },
  {
   "cell_type": "code",
   "execution_count": 27,
   "metadata": {
    "colab": {
     "base_uri": "https://localhost:8080/"
    },
    "id": "qaHLkeylYVC8",
    "outputId": "9fedd51a-812e-40da-b843-acf112f50b83"
   },
   "outputs": [
    {
     "name": "stdout",
     "output_type": "stream",
     "text": [
      "+----------+------------------------------+-----+----------+\n",
      "|attack_cat|                   probability|label|prediction|\n",
      "+----------+------------------------------+-----+----------+\n",
      "|    Normal|[0.9986928315830121,0.00130...|    0|       0.0|\n",
      "|    Normal|[0.9986928315830121,0.00130...|    0|       0.0|\n",
      "|    Normal|[0.9986002288911991,0.00139...|    0|       0.0|\n",
      "|    Normal|[0.9985296104136245,0.00147...|    0|       0.0|\n",
      "|    Normal|[0.9984871682616662,0.00151...|    0|       0.0|\n",
      "|    Normal|[0.9984597432417215,0.00154...|    0|       0.0|\n",
      "|    Normal|[0.9984574785318228,0.00154...|    0|       0.0|\n",
      "|    Normal|[0.9984574785318228,0.00154...|    0|       0.0|\n",
      "|    Normal|[0.9984574785318228,0.00154...|    0|       0.0|\n",
      "|    Normal|[0.9984574785318228,0.00154...|    0|       0.0|\n",
      "+----------+------------------------------+-----+----------+\n",
      "only showing top 10 rows\n",
      "\n"
     ]
    }
   ],
   "source": [
    "lrModel = lr.fit(df_train)\n",
    "lrpredictions = lrModel.transform(df_test)\n",
    "lrpredictions.filter(lrpredictions['prediction'] == 0) \\\n",
    "    .select(\"attack_cat\",\"probability\",\"label\",\"prediction\") \\\n",
    "    .orderBy(\"probability\", ascending=False) \\\n",
    "    .show(n = 10, truncate = 30)"
   ]
  },
  {
   "cell_type": "code",
   "execution_count": 28,
   "metadata": {
    "colab": {
     "base_uri": "https://localhost:8080/"
    },
    "id": "y0scC61HYU_K",
    "outputId": "1bae53c6-01f7-40c4-dd64-6749bde38069"
   },
   "outputs": [
    {
     "name": "stdout",
     "output_type": "stream",
     "text": [
      "Accuracy: 0.9999999800950727\n"
     ]
    }
   ],
   "source": [
    "lrevaluator = BinaryClassificationEvaluator(rawPredictionCol=\"rawPrediction\")\n",
    "print('Accuracy:', lrevaluator.evaluate(lrpredictions))"
   ]
  },
  {
   "cell_type": "code",
   "execution_count": 29,
   "metadata": {
    "colab": {
     "base_uri": "https://localhost:8080/"
    },
    "id": "jJ3R-Wfnx6FO",
    "outputId": "a1ff914d-87cf-429a-940d-b61c774e6f83"
   },
   "outputs": [
    {
     "name": "stdout",
     "output_type": "stream",
     "text": [
      "+---------------+----------+-----+------+\n",
      "|     attack_cat|prediction|label| count|\n",
      "+---------------+----------+-----+------+\n",
      "|       Exploits|       1.0|    1|  8279|\n",
      "|       Fuzzers |       1.0|    1|  5336|\n",
      "|      Shellcode|       1.0|    1|    60|\n",
      "|            DoS|       1.0|    1|  1723|\n",
      "|         Normal|       0.0|    0|587625|\n",
      "|       Analysis|       1.0|    1|   633|\n",
      "|       Backdoor|       1.0|    1|   527|\n",
      "|        Fuzzers|       1.0|    1|  1221|\n",
      "|        Generic|       1.0|    1|  7554|\n",
      "|          Worms|       1.0|    1|    61|\n",
      "|Reconnaissance |       1.0|    1|  3420|\n",
      "|      Backdoors|       1.0|    1|    78|\n",
      "| Reconnaissance|       1.0|    1|   492|\n",
      "|     Shellcode |       1.0|    1|   368|\n",
      "|         Normal|       1.0|    0|     3|\n",
      "+---------------+----------+-----+------+\n",
      "\n"
     ]
    }
   ],
   "source": [
    "lrpredictions.select(\"attack_cat\",\"prediction\",\"label\").groupby(\"attack_cat\",\"prediction\",\"label\").count().show()"
   ]
  },
  {
   "cell_type": "code",
   "execution_count": 32,
   "metadata": {
    "colab": {
     "base_uri": "https://localhost:8080/"
    },
    "id": "WEr_67knjkjU",
    "outputId": "4259e066-90bd-44c8-b32e-f09017bbe6ac"
   },
   "outputs": [
    {
     "name": "stdout",
     "output_type": "stream",
     "text": [
      "+----------+------------------------------+-----+----------+\n",
      "|attack_cat|                 rawPrediction|label|prediction|\n",
      "+----------+------------------------------+-----+----------+\n",
      "|    Normal|[6.63858397145453,-6.638583...|    0|       0.0|\n",
      "|    Normal|[6.63858397145453,-6.638583...|    0|       0.0|\n",
      "|    Normal|[6.5700457977375795,-6.5700...|    0|       0.0|\n",
      "|    Normal|[6.520756416889114,-6.52075...|    0|       0.0|\n",
      "|    Normal|[6.492258083755205,-6.49225...|    0|       0.0|\n",
      "|    Normal|[6.474264706125751,-6.47426...|    0|       0.0|\n",
      "|    Normal|[6.472793172121282,-6.47279...|    0|       0.0|\n",
      "|    Normal|[6.472793172121282,-6.47279...|    0|       0.0|\n",
      "|    Normal|[6.472793172121282,-6.47279...|    0|       0.0|\n",
      "|    Normal|[6.472793172121282,-6.47279...|    0|       0.0|\n",
      "+----------+------------------------------+-----+----------+\n",
      "only showing top 10 rows\n",
      "\n"
     ]
    }
   ],
   "source": [
    "# One vs Rest\n",
    "df_train, df_test = encoded_bc_df.randomSplit([0.7,0.3], seed=88)\n",
    "\n",
    "# Instantiate the One Vs Rest Classifier\n",
    "ovr = cl.OneVsRest(classifier=lr)\n",
    "\n",
    "# Train and Test the multiclass model\n",
    "ovrModel = ovr.fit(df_train)\n",
    "ovrpredictions = ovrModel.transform(df_test)\n",
    "ovrpredictions.filter(ovrpredictions['prediction'] == 0) \\\n",
    "    .select(\"attack_cat\",\"rawPrediction\",\"label\",\"prediction\") \\\n",
    "    .orderBy(\"probability\", ascending=False) \\\n",
    "    .show(n = 10, truncate = 30)"
   ]
  },
  {
   "cell_type": "code",
   "execution_count": 33,
   "metadata": {
    "colab": {
     "base_uri": "https://localhost:8080/"
    },
    "id": "77Movg11jkf-",
    "outputId": "5421776b-c7ce-4b98-bbc5-2e377809f2f9"
   },
   "outputs": [
    {
     "name": "stdout",
     "output_type": "stream",
     "text": [
      "Accuracy: 0.9999999871304348\n"
     ]
    }
   ],
   "source": [
    "# Evaluate the One VS Rest model\n",
    "ovrevaluator = BinaryClassificationEvaluator(rawPredictionCol=\"rawPrediction\")\n",
    "print('Accuracy:', ovrevaluator.evaluate(ovrpredictions))"
   ]
  },
  {
   "cell_type": "code",
   "execution_count": 34,
   "metadata": {
    "colab": {
     "base_uri": "https://localhost:8080/"
    },
    "id": "jD5jGXY8va63",
    "outputId": "d72c7821-4d8e-450b-d726-83bf3452decf"
   },
   "outputs": [
    {
     "name": "stdout",
     "output_type": "stream",
     "text": [
      "+---------------+----------+-----+------+\n",
      "|     attack_cat|prediction|label| count|\n",
      "+---------------+----------+-----+------+\n",
      "|       Exploits|       1.0|    1|  8279|\n",
      "|       Fuzzers |       1.0|    1|  5336|\n",
      "|      Shellcode|       1.0|    1|    60|\n",
      "|            DoS|       1.0|    1|  1723|\n",
      "|         Normal|       0.0|    0|587625|\n",
      "|       Analysis|       1.0|    1|   633|\n",
      "|       Backdoor|       1.0|    1|   527|\n",
      "|        Fuzzers|       1.0|    1|  1221|\n",
      "|        Generic|       1.0|    1|  7554|\n",
      "|          Worms|       1.0|    1|    61|\n",
      "|Reconnaissance |       1.0|    1|  3420|\n",
      "|      Backdoors|       1.0|    1|    78|\n",
      "| Reconnaissance|       1.0|    1|   492|\n",
      "|     Shellcode |       1.0|    1|   368|\n",
      "|         Normal|       1.0|    0|     3|\n",
      "+---------------+----------+-----+------+\n",
      "\n"
     ]
    }
   ],
   "source": [
    "ovrpredictions.select(\"attack_cat\",\"prediction\",\"label\").groupby(\"attack_cat\",\"prediction\",\"label\").count().show()"
   ]
  }
 ],
 "metadata": {
  "colab": {
   "collapsed_sections": [],
   "provenance": []
  },
  "kernelspec": {
   "display_name": "Python 3 (ipykernel)",
   "language": "python",
   "name": "python3"
  },
  "language_info": {
   "codemirror_mode": {
    "name": "ipython",
    "version": 3
   },
   "file_extension": ".py",
   "mimetype": "text/x-python",
   "name": "python",
   "nbconvert_exporter": "python",
   "pygments_lexer": "ipython3",
   "version": "3.9.12"
  }
 },
 "nbformat": 4,
 "nbformat_minor": 1
}
